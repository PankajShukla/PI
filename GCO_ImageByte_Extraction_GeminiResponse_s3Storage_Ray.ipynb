{
 "cells": [
  {
   "cell_type": "markdown",
   "metadata": {
    "id": "CkHPv2myT2cx"
   },
   "source": [
    "## Overview\n",
    "\n",
    "### Gemini\n",
    "\n",
    "Gemini is a family of generative AI models developed by Google DeepMind that is designed for multimodal use cases. The Gemini API gives you access to the Gemini Pro Vision and Gemini Pro models.\n",
    "\n",
    "### Vertex AI Gemini API\n",
    "\n",
    "- **Gemini 1.0 Pro Vision model** (`gemini-1.0-pro-vision`): Supports multimodal prompts. You can include text, images, and video in your prompt requests and get text or code responses."
   ]
  },
  {
   "cell_type": "markdown",
   "metadata": {
    "id": "No17Cw5hgx12"
   },
   "source": [
    "### Install Vertex AI SDK for Python\n"
   ]
  },
  {
   "cell_type": "code",
   "execution_count": 1,
   "metadata": {
    "colab": {
     "base_uri": "https://localhost:8080/"
    },
    "id": "dEMjC1whWjbn",
    "outputId": "4c4fa921-6e8a-4c7e-f213-e40e717fdaf9"
   },
   "outputs": [
    {
     "name": "stdout",
     "output_type": "stream",
     "text": [
      "Requirement already satisfied: ray in /Users/abmcpl.itsupport/anaconda3/lib/python3.10/site-packages (2.37.0)\n",
      "Requirement already satisfied: requests in /Users/abmcpl.itsupport/anaconda3/lib/python3.10/site-packages (from ray) (2.28.1)\n",
      "Requirement already satisfied: aiosignal in /Users/abmcpl.itsupport/anaconda3/lib/python3.10/site-packages (from ray) (1.3.1)\n",
      "Requirement already satisfied: protobuf!=3.19.5,>=3.15.3 in /Users/abmcpl.itsupport/anaconda3/lib/python3.10/site-packages (from ray) (5.28.2)\n",
      "Requirement already satisfied: packaging in /Users/abmcpl.itsupport/anaconda3/lib/python3.10/site-packages (from ray) (22.0)\n",
      "Requirement already satisfied: frozenlist in /Users/abmcpl.itsupport/anaconda3/lib/python3.10/site-packages (from ray) (1.4.1)\n",
      "Requirement already satisfied: msgpack<2.0.0,>=1.0.0 in /Users/abmcpl.itsupport/anaconda3/lib/python3.10/site-packages (from ray) (1.0.3)\n",
      "Requirement already satisfied: pyyaml in /Users/abmcpl.itsupport/anaconda3/lib/python3.10/site-packages (from ray) (6.0)\n",
      "Requirement already satisfied: jsonschema in /Users/abmcpl.itsupport/anaconda3/lib/python3.10/site-packages (from ray) (4.17.3)\n",
      "Requirement already satisfied: filelock in /Users/abmcpl.itsupport/anaconda3/lib/python3.10/site-packages (from ray) (3.9.0)\n",
      "Requirement already satisfied: click>=7.0 in /Users/abmcpl.itsupport/anaconda3/lib/python3.10/site-packages (from ray) (8.0.4)\n",
      "Requirement already satisfied: pyrsistent!=0.17.0,!=0.17.1,!=0.17.2,>=0.14.0 in /Users/abmcpl.itsupport/anaconda3/lib/python3.10/site-packages (from jsonschema->ray) (0.18.0)\n",
      "Requirement already satisfied: attrs>=17.4.0 in /Users/abmcpl.itsupport/anaconda3/lib/python3.10/site-packages (from jsonschema->ray) (22.1.0)\n",
      "Requirement already satisfied: idna<4,>=2.5 in /Users/abmcpl.itsupport/anaconda3/lib/python3.10/site-packages (from requests->ray) (3.4)\n",
      "Requirement already satisfied: urllib3<1.27,>=1.21.1 in /Users/abmcpl.itsupport/anaconda3/lib/python3.10/site-packages (from requests->ray) (1.26.14)\n",
      "Requirement already satisfied: charset-normalizer<3,>=2 in /Users/abmcpl.itsupport/anaconda3/lib/python3.10/site-packages (from requests->ray) (2.0.4)\n",
      "Requirement already satisfied: certifi>=2017.4.17 in /Users/abmcpl.itsupport/anaconda3/lib/python3.10/site-packages (from requests->ray) (2022.12.7)\n"
     ]
    }
   ],
   "source": [
    "!pip install ray"
   ]
  },
  {
   "cell_type": "code",
   "execution_count": 2,
   "metadata": {
    "colab": {
     "base_uri": "https://localhost:8080/"
    },
    "id": "WqS-hXRHqiW8",
    "outputId": "e24d06c2-7ccc-408d-cd5f-c98aff4055b8"
   },
   "outputs": [
    {
     "name": "stdout",
     "output_type": "stream",
     "text": [
      "Requirement already satisfied: google-cloud-aiplatform in /Users/abmcpl.itsupport/anaconda3/lib/python3.10/site-packages (1.68.0)\n",
      "Requirement already satisfied: protobuf!=4.21.0,!=4.21.1,!=4.21.2,!=4.21.3,!=4.21.4,!=4.21.5,<6.0.0dev,>=3.20.2 in /Users/abmcpl.itsupport/anaconda3/lib/python3.10/site-packages (from google-cloud-aiplatform) (5.28.2)\n",
      "Requirement already satisfied: proto-plus<2.0.0dev,>=1.22.3 in /Users/abmcpl.itsupport/anaconda3/lib/python3.10/site-packages (from google-cloud-aiplatform) (1.24.0)\n",
      "Requirement already satisfied: shapely<3.0.0dev in /Users/abmcpl.itsupport/anaconda3/lib/python3.10/site-packages (from google-cloud-aiplatform) (2.0.6)\n",
      "Requirement already satisfied: pydantic<3 in /Users/abmcpl.itsupport/anaconda3/lib/python3.10/site-packages (from google-cloud-aiplatform) (2.9.2)\n",
      "Requirement already satisfied: google-cloud-storage<3.0.0dev,>=1.32.0 in /Users/abmcpl.itsupport/anaconda3/lib/python3.10/site-packages (from google-cloud-aiplatform) (2.18.2)\n",
      "Requirement already satisfied: google-api-core[grpc]!=2.0.*,!=2.1.*,!=2.2.*,!=2.3.*,!=2.4.*,!=2.5.*,!=2.6.*,!=2.7.*,<3.0.0dev,>=1.34.1 in /Users/abmcpl.itsupport/anaconda3/lib/python3.10/site-packages (from google-cloud-aiplatform) (2.20.0)\n",
      "Requirement already satisfied: google-cloud-bigquery!=3.20.0,<4.0.0dev,>=1.15.0 in /Users/abmcpl.itsupport/anaconda3/lib/python3.10/site-packages (from google-cloud-aiplatform) (3.26.0)\n",
      "Requirement already satisfied: google-cloud-resource-manager<3.0.0dev,>=1.3.3 in /Users/abmcpl.itsupport/anaconda3/lib/python3.10/site-packages (from google-cloud-aiplatform) (1.12.5)\n",
      "Requirement already satisfied: google-auth<3.0.0dev,>=2.14.1 in /Users/abmcpl.itsupport/anaconda3/lib/python3.10/site-packages (from google-cloud-aiplatform) (2.35.0)\n",
      "Requirement already satisfied: docstring-parser<1 in /Users/abmcpl.itsupport/anaconda3/lib/python3.10/site-packages (from google-cloud-aiplatform) (0.16)\n",
      "Requirement already satisfied: packaging>=14.3 in /Users/abmcpl.itsupport/anaconda3/lib/python3.10/site-packages (from google-cloud-aiplatform) (22.0)\n",
      "Requirement already satisfied: googleapis-common-protos<2.0.dev0,>=1.56.2 in /Users/abmcpl.itsupport/anaconda3/lib/python3.10/site-packages (from google-api-core[grpc]!=2.0.*,!=2.1.*,!=2.2.*,!=2.3.*,!=2.4.*,!=2.5.*,!=2.6.*,!=2.7.*,<3.0.0dev,>=1.34.1->google-cloud-aiplatform) (1.65.0)\n",
      "Requirement already satisfied: requests<3.0.0.dev0,>=2.18.0 in /Users/abmcpl.itsupport/anaconda3/lib/python3.10/site-packages (from google-api-core[grpc]!=2.0.*,!=2.1.*,!=2.2.*,!=2.3.*,!=2.4.*,!=2.5.*,!=2.6.*,!=2.7.*,<3.0.0dev,>=1.34.1->google-cloud-aiplatform) (2.28.1)\n",
      "Requirement already satisfied: grpcio-status<2.0.dev0,>=1.33.2 in /Users/abmcpl.itsupport/anaconda3/lib/python3.10/site-packages (from google-api-core[grpc]!=2.0.*,!=2.1.*,!=2.2.*,!=2.3.*,!=2.4.*,!=2.5.*,!=2.6.*,!=2.7.*,<3.0.0dev,>=1.34.1->google-cloud-aiplatform) (1.66.2)\n",
      "Requirement already satisfied: grpcio<2.0dev,>=1.33.2 in /Users/abmcpl.itsupport/anaconda3/lib/python3.10/site-packages (from google-api-core[grpc]!=2.0.*,!=2.1.*,!=2.2.*,!=2.3.*,!=2.4.*,!=2.5.*,!=2.6.*,!=2.7.*,<3.0.0dev,>=1.34.1->google-cloud-aiplatform) (1.66.2)\n",
      "Requirement already satisfied: pyasn1-modules>=0.2.1 in /Users/abmcpl.itsupport/anaconda3/lib/python3.10/site-packages (from google-auth<3.0.0dev,>=2.14.1->google-cloud-aiplatform) (0.2.8)\n",
      "Requirement already satisfied: rsa<5,>=3.1.4 in /Users/abmcpl.itsupport/anaconda3/lib/python3.10/site-packages (from google-auth<3.0.0dev,>=2.14.1->google-cloud-aiplatform) (4.9)\n",
      "Requirement already satisfied: cachetools<6.0,>=2.0.0 in /Users/abmcpl.itsupport/anaconda3/lib/python3.10/site-packages (from google-auth<3.0.0dev,>=2.14.1->google-cloud-aiplatform) (5.5.0)\n",
      "Requirement already satisfied: google-cloud-core<3.0.0dev,>=2.4.1 in /Users/abmcpl.itsupport/anaconda3/lib/python3.10/site-packages (from google-cloud-bigquery!=3.20.0,<4.0.0dev,>=1.15.0->google-cloud-aiplatform) (2.4.1)\n",
      "Requirement already satisfied: python-dateutil<3.0dev,>=2.7.3 in /Users/abmcpl.itsupport/anaconda3/lib/python3.10/site-packages (from google-cloud-bigquery!=3.20.0,<4.0.0dev,>=1.15.0->google-cloud-aiplatform) (2.8.2)\n",
      "Requirement already satisfied: google-resumable-media<3.0dev,>=2.0.0 in /Users/abmcpl.itsupport/anaconda3/lib/python3.10/site-packages (from google-cloud-bigquery!=3.20.0,<4.0.0dev,>=1.15.0->google-cloud-aiplatform) (2.7.2)\n",
      "Requirement already satisfied: grpc-google-iam-v1<1.0.0dev,>=0.12.4 in /Users/abmcpl.itsupport/anaconda3/lib/python3.10/site-packages (from google-cloud-resource-manager<3.0.0dev,>=1.3.3->google-cloud-aiplatform) (0.13.1)\n",
      "Requirement already satisfied: google-crc32c<2.0dev,>=1.0 in /Users/abmcpl.itsupport/anaconda3/lib/python3.10/site-packages (from google-cloud-storage<3.0.0dev,>=1.32.0->google-cloud-aiplatform) (1.6.0)\n",
      "Requirement already satisfied: typing-extensions>=4.6.1 in /Users/abmcpl.itsupport/anaconda3/lib/python3.10/site-packages (from pydantic<3->google-cloud-aiplatform) (4.12.2)\n",
      "Requirement already satisfied: annotated-types>=0.6.0 in /Users/abmcpl.itsupport/anaconda3/lib/python3.10/site-packages (from pydantic<3->google-cloud-aiplatform) (0.7.0)\n",
      "Requirement already satisfied: pydantic-core==2.23.4 in /Users/abmcpl.itsupport/anaconda3/lib/python3.10/site-packages (from pydantic<3->google-cloud-aiplatform) (2.23.4)\n",
      "Requirement already satisfied: numpy<3,>=1.14 in /Users/abmcpl.itsupport/anaconda3/lib/python3.10/site-packages (from shapely<3.0.0dev->google-cloud-aiplatform) (1.23.5)\n",
      "Requirement already satisfied: pyasn1<0.5.0,>=0.4.6 in /Users/abmcpl.itsupport/anaconda3/lib/python3.10/site-packages (from pyasn1-modules>=0.2.1->google-auth<3.0.0dev,>=2.14.1->google-cloud-aiplatform) (0.4.8)\n",
      "Requirement already satisfied: six>=1.5 in /Users/abmcpl.itsupport/anaconda3/lib/python3.10/site-packages (from python-dateutil<3.0dev,>=2.7.3->google-cloud-bigquery!=3.20.0,<4.0.0dev,>=1.15.0->google-cloud-aiplatform) (1.16.0)\n",
      "Requirement already satisfied: charset-normalizer<3,>=2 in /Users/abmcpl.itsupport/anaconda3/lib/python3.10/site-packages (from requests<3.0.0.dev0,>=2.18.0->google-api-core[grpc]!=2.0.*,!=2.1.*,!=2.2.*,!=2.3.*,!=2.4.*,!=2.5.*,!=2.6.*,!=2.7.*,<3.0.0dev,>=1.34.1->google-cloud-aiplatform) (2.0.4)\n",
      "Requirement already satisfied: certifi>=2017.4.17 in /Users/abmcpl.itsupport/anaconda3/lib/python3.10/site-packages (from requests<3.0.0.dev0,>=2.18.0->google-api-core[grpc]!=2.0.*,!=2.1.*,!=2.2.*,!=2.3.*,!=2.4.*,!=2.5.*,!=2.6.*,!=2.7.*,<3.0.0dev,>=1.34.1->google-cloud-aiplatform) (2022.12.7)\n",
      "Requirement already satisfied: urllib3<1.27,>=1.21.1 in /Users/abmcpl.itsupport/anaconda3/lib/python3.10/site-packages (from requests<3.0.0.dev0,>=2.18.0->google-api-core[grpc]!=2.0.*,!=2.1.*,!=2.2.*,!=2.3.*,!=2.4.*,!=2.5.*,!=2.6.*,!=2.7.*,<3.0.0dev,>=1.34.1->google-cloud-aiplatform) (1.26.14)\n",
      "Requirement already satisfied: idna<4,>=2.5 in /Users/abmcpl.itsupport/anaconda3/lib/python3.10/site-packages (from requests<3.0.0.dev0,>=2.18.0->google-api-core[grpc]!=2.0.*,!=2.1.*,!=2.2.*,!=2.3.*,!=2.4.*,!=2.5.*,!=2.6.*,!=2.7.*,<3.0.0dev,>=1.34.1->google-cloud-aiplatform) (3.4)\n",
      "Requirement already satisfied: boto3 in /Users/abmcpl.itsupport/anaconda3/lib/python3.10/site-packages (1.35.31)\n",
      "Requirement already satisfied: s3transfer<0.11.0,>=0.10.0 in /Users/abmcpl.itsupport/anaconda3/lib/python3.10/site-packages (from boto3) (0.10.2)\n",
      "Requirement already satisfied: jmespath<2.0.0,>=0.7.1 in /Users/abmcpl.itsupport/anaconda3/lib/python3.10/site-packages (from boto3) (0.10.0)\n",
      "Collecting botocore<1.36.0,>=1.35.31\n",
      "  Using cached botocore-1.35.33-py3-none-any.whl (12.6 MB)\n",
      "Requirement already satisfied: python-dateutil<3.0.0,>=2.1 in /Users/abmcpl.itsupport/anaconda3/lib/python3.10/site-packages (from botocore<1.36.0,>=1.35.31->boto3) (2.8.2)\n",
      "Requirement already satisfied: urllib3!=2.2.0,<3,>=1.25.4 in /Users/abmcpl.itsupport/anaconda3/lib/python3.10/site-packages (from botocore<1.36.0,>=1.35.31->boto3) (1.26.14)\n",
      "Requirement already satisfied: six>=1.5 in /Users/abmcpl.itsupport/anaconda3/lib/python3.10/site-packages (from python-dateutil<3.0.0,>=2.1->botocore<1.36.0,>=1.35.31->boto3) (1.16.0)\n",
      "Installing collected packages: botocore\n",
      "  Attempting uninstall: botocore\n",
      "    Found existing installation: botocore 1.35.23\n",
      "    Uninstalling botocore-1.35.23:\n",
      "      Successfully uninstalled botocore-1.35.23\n",
      "\u001b[31mERROR: pip's dependency resolver does not currently take into account all the packages that are installed. This behaviour is the source of the following dependency conflicts.\n",
      "aiobotocore 2.15.1 requires botocore<1.35.24,>=1.35.16, but you have botocore 1.35.33 which is incompatible.\u001b[0m\u001b[31m\n",
      "\u001b[0mSuccessfully installed botocore-1.35.33\n",
      "Requirement already satisfied: s3fs in /Users/abmcpl.itsupport/anaconda3/lib/python3.10/site-packages (2024.9.0)\n",
      "Requirement already satisfied: aiohttp!=4.0.0a0,!=4.0.0a1 in /Users/abmcpl.itsupport/anaconda3/lib/python3.10/site-packages (from s3fs) (3.10.8)\n",
      "Requirement already satisfied: fsspec==2024.9.0.* in /Users/abmcpl.itsupport/anaconda3/lib/python3.10/site-packages (from s3fs) (2024.9.0)\n",
      "Requirement already satisfied: aiobotocore<3.0.0,>=2.5.4 in /Users/abmcpl.itsupport/anaconda3/lib/python3.10/site-packages (from s3fs) (2.15.1)\n",
      "Collecting botocore<1.35.24,>=1.35.16\n",
      "  Using cached botocore-1.35.23-py3-none-any.whl (12.6 MB)\n",
      "Requirement already satisfied: wrapt<2.0.0,>=1.10.10 in /Users/abmcpl.itsupport/anaconda3/lib/python3.10/site-packages (from aiobotocore<3.0.0,>=2.5.4->s3fs) (1.14.1)\n",
      "Requirement already satisfied: aioitertools<1.0.0,>=0.5.1 in /Users/abmcpl.itsupport/anaconda3/lib/python3.10/site-packages (from aiobotocore<3.0.0,>=2.5.4->s3fs) (0.12.0)\n",
      "Requirement already satisfied: multidict<7.0,>=4.5 in /Users/abmcpl.itsupport/anaconda3/lib/python3.10/site-packages (from aiohttp!=4.0.0a0,!=4.0.0a1->s3fs) (6.1.0)\n",
      "Requirement already satisfied: yarl<2.0,>=1.12.0 in /Users/abmcpl.itsupport/anaconda3/lib/python3.10/site-packages (from aiohttp!=4.0.0a0,!=4.0.0a1->s3fs) (1.13.1)\n",
      "Requirement already satisfied: aiosignal>=1.1.2 in /Users/abmcpl.itsupport/anaconda3/lib/python3.10/site-packages (from aiohttp!=4.0.0a0,!=4.0.0a1->s3fs) (1.3.1)\n",
      "Requirement already satisfied: frozenlist>=1.1.1 in /Users/abmcpl.itsupport/anaconda3/lib/python3.10/site-packages (from aiohttp!=4.0.0a0,!=4.0.0a1->s3fs) (1.4.1)\n",
      "Requirement already satisfied: aiohappyeyeballs>=2.3.0 in /Users/abmcpl.itsupport/anaconda3/lib/python3.10/site-packages (from aiohttp!=4.0.0a0,!=4.0.0a1->s3fs) (2.4.3)\n",
      "Requirement already satisfied: attrs>=17.3.0 in /Users/abmcpl.itsupport/anaconda3/lib/python3.10/site-packages (from aiohttp!=4.0.0a0,!=4.0.0a1->s3fs) (22.1.0)\n",
      "Requirement already satisfied: async-timeout<5.0,>=4.0 in /Users/abmcpl.itsupport/anaconda3/lib/python3.10/site-packages (from aiohttp!=4.0.0a0,!=4.0.0a1->s3fs) (4.0.3)\n",
      "Requirement already satisfied: urllib3!=2.2.0,<3,>=1.25.4 in /Users/abmcpl.itsupport/anaconda3/lib/python3.10/site-packages (from botocore<1.35.24,>=1.35.16->aiobotocore<3.0.0,>=2.5.4->s3fs) (1.26.14)\n",
      "Requirement already satisfied: python-dateutil<3.0.0,>=2.1 in /Users/abmcpl.itsupport/anaconda3/lib/python3.10/site-packages (from botocore<1.35.24,>=1.35.16->aiobotocore<3.0.0,>=2.5.4->s3fs) (2.8.2)\n",
      "Requirement already satisfied: jmespath<2.0.0,>=0.7.1 in /Users/abmcpl.itsupport/anaconda3/lib/python3.10/site-packages (from botocore<1.35.24,>=1.35.16->aiobotocore<3.0.0,>=2.5.4->s3fs) (0.10.0)\n",
      "Requirement already satisfied: typing-extensions>=4.1.0 in /Users/abmcpl.itsupport/anaconda3/lib/python3.10/site-packages (from multidict<7.0,>=4.5->aiohttp!=4.0.0a0,!=4.0.0a1->s3fs) (4.12.2)\n",
      "Requirement already satisfied: idna>=2.0 in /Users/abmcpl.itsupport/anaconda3/lib/python3.10/site-packages (from yarl<2.0,>=1.12.0->aiohttp!=4.0.0a0,!=4.0.0a1->s3fs) (3.4)\n",
      "Requirement already satisfied: six>=1.5 in /Users/abmcpl.itsupport/anaconda3/lib/python3.10/site-packages (from python-dateutil<3.0.0,>=2.1->botocore<1.35.24,>=1.35.16->aiobotocore<3.0.0,>=2.5.4->s3fs) (1.16.0)\n",
      "Installing collected packages: botocore\n",
      "  Attempting uninstall: botocore\n",
      "    Found existing installation: botocore 1.35.33\n",
      "    Uninstalling botocore-1.35.33:\n",
      "      Successfully uninstalled botocore-1.35.33\n",
      "\u001b[31mERROR: pip's dependency resolver does not currently take into account all the packages that are installed. This behaviour is the source of the following dependency conflicts.\n",
      "boto3 1.35.31 requires botocore<1.36.0,>=1.35.31, but you have botocore 1.35.23 which is incompatible.\u001b[0m\u001b[31m\n",
      "\u001b[0mSuccessfully installed botocore-1.35.23\n"
     ]
    }
   ],
   "source": [
    "!pip install google-cloud-aiplatform\n",
    "!pip install boto3\n",
    "!pip install s3fs"
   ]
  },
  {
   "cell_type": "code",
   "execution_count": 3,
   "metadata": {
    "id": "Yqh0Wo-3Wjbn"
   },
   "outputs": [
    {
     "name": "stderr",
     "output_type": "stream",
     "text": [
      "/Users/abmcpl.itsupport/anaconda3/lib/python3.10/site-packages/tqdm/auto.py:22: TqdmWarning: IProgress not found. Please update jupyter and ipywidgets. See https://ipywidgets.readthedocs.io/en/stable/user_install.html\n",
      "  from .autonotebook import tqdm as notebook_tqdm\n",
      "2024-10-04 08:40:21,791\tINFO util.py:154 -- Missing packages: ['ipywidgets']. Run `pip install -U ipywidgets`, then restart the notebook server for rich notebook output.\n"
     ]
    }
   ],
   "source": [
    "import ray\n",
    "import os\n",
    "import pandas as pd\n",
    "import s3fs\n",
    "import sys\n",
    "import json\n",
    "import boto3\n",
    "from io import StringIO\n",
    "import datetime\n",
    "import time\n",
    "import vertexai\n",
    "from vertexai.generative_models import GenerativeModel, Image, Part"
   ]
  },
  {
   "cell_type": "markdown",
   "metadata": {
    "id": "lifQN4IPWjbo"
   },
   "source": [
    "# Parallelisation"
   ]
  },
  {
   "cell_type": "markdown",
   "metadata": {
    "id": "22k5EeZfWjbp"
   },
   "source": [
    "# Authentication"
   ]
  },
  {
   "cell_type": "code",
   "execution_count": 4,
   "metadata": {
    "id": "XvBfCVYtWjbp"
   },
   "outputs": [],
   "source": [
    "\n",
    "def set_gcloud_adc_env():\n",
    "    os.environ[\"GOOGLE_APPLICATION_CREDENTIALS\"] = \"abg-intelact-genai-platform-0c51beb9d67c.json\"\n",
    "    print(\"Successfully set environment credentials.\")\n"
   ]
  },
  {
   "cell_type": "code",
   "execution_count": 5,
   "metadata": {
    "id": "0VoCj8onWjbp"
   },
   "outputs": [],
   "source": [
    "with open('s3connection.json', 'r') as openfile:\n",
    "    pwd = json.load(openfile)"
   ]
  },
  {
   "cell_type": "markdown",
   "metadata": {
    "id": "NawXbxhiWjbp"
   },
   "source": [
    "# Storage Utility"
   ]
  },
  {
   "cell_type": "code",
   "execution_count": 6,
   "metadata": {
    "id": "3_S1bV3NpXyk"
   },
   "outputs": [],
   "source": [
    "\n",
    "def search_file(filename, search_path):\n",
    "    \"\"\"Searches for a file in the specified path and its subdirectories.\"\"\"\n",
    "\n",
    "    for root, dirs, files in os.walk(search_path):\n",
    "        if filename in files:\n",
    "            return os.path.join(root, filename)\n",
    "    return None\n",
    "\n",
    "\n",
    "def S3_setup(pwd):\n",
    "    s3 = s3fs.S3FileSystem(anon=False,key=pwd['key'],secret=pwd['secret'])\n",
    "    s3bucket=\"oab-aw-data-insights-s3\"\n",
    "    return s3bucket, pwd\n",
    "\n",
    "\n",
    "def storeS3(df, s3bucket, s3pwd, s3path, s3filename):\n",
    "\n",
    "    session = boto3.Session(aws_access_key_id = pwd['key'], aws_secret_access_key = pwd['secret'])\n",
    "    s3_resource = session.resource('s3')\n",
    "    csv_buffer = StringIO()\n",
    "    bk  = s3bucket\n",
    "    obj = s3path+s3filename\n",
    "\n",
    "    df.to_csv(csv_buffer, index = False)\n",
    "    s3_resource.Object(bk , obj).put(Body=csv_buffer.getvalue())\n",
    "\n",
    "    print('Success!')\n",
    "    pathstring1= 'https://ap-south-1.console.aws.amazon.com/s3/object/oab-aw-data-insights-s3?region=ap-south-1&bucketType=general&prefix='\n",
    "    pathstring2= obj\n",
    "    pathstring3= '&showversions=false'\n",
    "\n",
    "    link = pathstring1+pathstring2+pathstring3\n",
    "    return link\n"
   ]
  },
  {
   "cell_type": "markdown",
   "metadata": {
    "id": "MYFYzjlwWjbq"
   },
   "source": [
    "# Cleaning Utility"
   ]
  },
  {
   "cell_type": "code",
   "execution_count": 7,
   "metadata": {
    "id": "Ejdvwp3P0OZy"
   },
   "outputs": [],
   "source": [
    "\n",
    "\n",
    "def dataCleaning(df):\n",
    "\n",
    "    \"\"\"\n",
    "    ------------------------------------------------------------\n",
    "    FILL NA WITH 0 VALUE FOR ALL COLUMNS\n",
    "    ------------------------------------------------------------\n",
    "    \"\"\"\n",
    "    df.fillna(0, inplace=True)\n",
    "\n",
    "\n",
    "    \"\"\"\n",
    "    ------------------------------------------------------------\n",
    "    GET DATA TYPE FOR COLUMNS\n",
    "    ------------------------------------------------------------\n",
    "    \"\"\"\n",
    "    dtype_df=pd.DataFrame(columns=['column_name','data_type'])\n",
    "    for c in df.columns:\n",
    "        _tempdf = pd.DataFrame({'column_name':[c],'data_type':[df[c].dtypes] })\n",
    "        dtype_df = pd.concat([dtype_df, _tempdf], ignore_index=True)\n",
    "\n",
    "\n",
    "    \"\"\"\n",
    "    ------------------------------------------------------------\n",
    "    GET LIST OF STRING COLUMNS FROM THE DATA\n",
    "    ------------------------------------------------------------\n",
    "    \"\"\"\n",
    "\n",
    "    DIM_COLS = list(dtype_df[dtype_df.data_type=='object']['column_name'].unique())\n",
    "\n",
    "\n",
    "    \"\"\"\n",
    "    ------------------------------------------------------------\n",
    "    CLEAN THE STRING COLUMNS, REPLACE COMMA BY PIPE OPERATOR\n",
    "    ------------------------------------------------------------\n",
    "    \"\"\"\n",
    "\n",
    "    CLEAN_COLS = []\n",
    "\n",
    "    for c in df.columns:\n",
    "        cnt=0\n",
    "        if c in DIM_COLS:\n",
    "            df[c] = df[c].astype(str)\n",
    "            for v in df[c].unique():\n",
    "                if v.find(\",\")>-1:\n",
    "                    cnt=cnt+1\n",
    "\n",
    "        if cnt>0:\n",
    "            CLEAN_COLS.append(c)\n",
    "\n",
    "    for c in CLEAN_COLS:\n",
    "        df[c] = df[c].str.replace(\",\",\"|\")\n",
    "\n",
    "    return df\n"
   ]
  },
  {
   "cell_type": "markdown",
   "metadata": {
    "id": "qmAFHGUQWjbq"
   },
   "source": [
    "# GCP project Credentials"
   ]
  },
  {
   "cell_type": "code",
   "execution_count": 8,
   "metadata": {
    "id": "vVefLPEzYjPQ"
   },
   "outputs": [],
   "source": [
    "def project_setup():\n",
    "\n",
    "    # Set Google Cloud project information and initialize Vertex AI SDK\n",
    "\n",
    "    PROJECT_ID = \"abg-intelact-genai-platform\"\n",
    "    # LOCATION = \"us-central1\"\n",
    "\n",
    "    # vertexai.init(project=PROJECT_ID, location=LOCATION)\n",
    "    vertexai.init(project=PROJECT_ID)\n",
    "    multimodal_model = GenerativeModel(\"gemini-1.0-pro-vision\")\n",
    "\n",
    "    return multimodal_model"
   ]
  },
  {
   "cell_type": "markdown",
   "metadata": {
    "id": "nR_wXgUSWjbq"
   },
   "source": [
    "# Image data Utility functions"
   ]
  },
  {
   "cell_type": "code",
   "execution_count": 9,
   "metadata": {
    "id": "NQS13DI6Pjp6"
   },
   "outputs": [],
   "source": [
    "import http.client\n",
    "import typing\n",
    "import urllib.request\n",
    "\n",
    "import IPython.display\n",
    "from PIL import Image as PIL_Image\n",
    "from PIL import ImageOps as PIL_ImageOps\n",
    "\n",
    "\n",
    "def display_images(\n",
    "    images: typing.Iterable[Image],\n",
    "    max_width: int = 600,\n",
    "    max_height: int = 350,\n",
    ") -> None:\n",
    "    for image in images:\n",
    "        pil_image = typing.cast(PIL_Image.Image, image._pil_image)\n",
    "        if pil_image.mode != \"RGB\":\n",
    "            # RGB is supported by all Jupyter environments (e.g. RGBA is not yet)\n",
    "            pil_image = pil_image.convert(\"RGB\")\n",
    "        image_width, image_height = pil_image.size\n",
    "        if max_width < image_width or max_height < image_height:\n",
    "            # Resize to display a smaller notebook image\n",
    "            pil_image = PIL_ImageOps.contain(pil_image, (max_width, max_height))\n",
    "        IPython.display.display(pil_image)\n",
    "\n",
    "\n",
    "def get_image_bytes_from_url(image_url: str) -> bytes:\n",
    "    with urllib.request.urlopen(image_url) as response:\n",
    "        response = typing.cast(http.client.HTTPResponse, response)\n",
    "        image_bytes = response.read()\n",
    "    return image_bytes\n",
    "\n",
    "\n",
    "def load_image_from_url(image_url: str) -> Image:\n",
    "    image_bytes = get_image_bytes_from_url(image_url)\n",
    "    return Image.from_bytes(image_bytes)\n",
    "\n",
    "\n",
    "def load_image_bytes_from_url(image_url: str) -> Image:\n",
    "    image_bytes = get_image_bytes_from_url(image_url)\n",
    "    return image_bytes\n",
    "\n",
    "def get_url_from_gcs(gcs_uri: str) -> str:\n",
    "    # converts GCS uri to url for image display.\n",
    "    url = \"https://storage.googleapis.com/\" + gcs_uri.replace(\"gs://\", \"\").replace(\n",
    "        \" \", \"%20\"\n",
    "    )\n",
    "    return url\n",
    "\n",
    "\n",
    "def print_multimodal_prompt(contents: list):\n",
    "    \"\"\"\n",
    "    Given contents that would be sent to Gemini,\n",
    "    output the full multimodal prompt for ease of readability.\n",
    "    \"\"\"\n",
    "    for content in contents:\n",
    "        if isinstance(content, Image):\n",
    "            display_images([content])\n",
    "        elif isinstance(content, Part):\n",
    "            url = get_url_from_gcs(content.file_data.file_uri)\n",
    "            IPython.display.display(load_image_from_url(url))\n",
    "        else:\n",
    "            print(content)\n",
    "\n"
   ]
  },
  {
   "cell_type": "code",
   "execution_count": 10,
   "metadata": {
    "id": "VyFIYVAO3V1-"
   },
   "outputs": [],
   "source": [
    "import signal\n",
    "import time\n",
    "\n",
    "\n",
    "class TimeoutExpired(Exception):\n",
    "    pass\n",
    "\n",
    "def alarm_handler(signum, frame):\n",
    "    raise TimeoutExpired\n",
    "\n"
   ]
  },
  {
   "cell_type": "code",
   "execution_count": 11,
   "metadata": {
    "id": "a9bxofGaTZKD"
   },
   "outputs": [],
   "source": [
    "def get_gemini_response(image_url, prompt_string1):\n",
    "    image = load_image_from_url(image_url)\n",
    "    prompt = \"Give probability score on these eight parameteres - \" + prompt_string1 +\" in json format.\"\n",
    "    contents = [image,prompt]\n",
    "    responses = multimodal_model.generate_content(contents, stream=True)\n",
    "    # print_multimodal_prompt(contents)\n",
    "    jsonData=response_to_json(responses)\n",
    "    return jsonData\n",
    "\n",
    "def get_gemini_organic_response(image_url, prompt_string2):\n",
    "\n",
    "    image = load_image_from_url(image_url)\n",
    "    prompt = prompt_string2\n",
    "    contents = [image,prompt]\n",
    "    responses = multimodal_model.generate_content(contents, stream=True)\n",
    "\n",
    "    _sentence = \"\"\n",
    "    for r in responses:\n",
    "        _sentence = _sentence+ \" \" + str(r.text)\n",
    "    return _sentence\n",
    "\n",
    "\n",
    "def get_gemini_product_type_response(image_url, prompt_string3):\n",
    "    image = load_image_from_url(image_url)\n",
    "    prompt = prompt_string3\n",
    "    contents = [image,prompt]\n",
    "    responses = multimodal_model.generate_content(contents, stream=True)\n",
    "\n",
    "    _sentence = \"\"\n",
    "    for r in responses:\n",
    "        _sentence = _sentence+ \" \" + str(r.text)\n",
    "    return _sentence\n",
    "\n",
    "def get_gemini_product_type_response(image_url, prompt_string3):\n",
    "    image = load_image_from_url(image_url)\n",
    "    prompt = prompt_string3\n",
    "    contents = [image, prompt]\n",
    "    responses = multimodal_model.generate_content(contents, stream=True)\n",
    "    # print_multimodal_prompt(contents)\n",
    "    _sentence = \"\"\n",
    "    for r in responses:\n",
    "        _sentence = _sentence+ \" \" + str(r.text)\n",
    "    return _sentence\n",
    "\n",
    "\n",
    "\n",
    "def get_gemini_multiPrompt_response(image, _prompt):\n",
    "    contents = [image, _prompt]\n",
    "    responses = multimodal_model.generate_content(contents, stream=True)\n",
    "    _sentence = \"\"\n",
    "    for r in responses:\n",
    "        _sentence = _sentence+ \" \" + str(r.text)\n",
    "    return _sentence\n",
    "\n",
    "\n",
    "\n",
    "def get_gemini_flash_1_5_multiPrompt_response(image, _prompt):\n",
    "    response = multimodal_model.generate_content(image +[_prompt], stream=False)\n",
    "    return response.text\n"
   ]
  },
  {
   "cell_type": "markdown",
   "metadata": {
    "id": "8zpuYdGSdpDc"
   },
   "source": [
    "## Read Data"
   ]
  },
  {
   "cell_type": "code",
   "execution_count": 12,
   "metadata": {
    "id": "ZTYRWpVOdmoM"
   },
   "outputs": [],
   "source": [
    "def load_and_prepare_data(filename, pwd):\n",
    "\n",
    "    s3 = s3fs.S3FileSystem(anon=False,key=pwd['key'],secret=pwd['secret'])\n",
    "    s3bucket=\"oab-aw-data-insights-s3\"\n",
    "\n",
    "    try:\n",
    "        df = pd.read_csv(filename)\n",
    "    except:\n",
    "        df = pd.read_csv(s3.open(os.path.join(filename),'rb'), encoding='Latin-1')\n",
    "\n",
    "    print(df.Brand.value_counts().reset_index())\n",
    "    _brands = list(df.Brand.unique())\n",
    "\n",
    "    # _brands = ['Golden Goose', 'Autry']\n",
    "    # df0 = df[df.Brand == _brands[0]].head(20)\n",
    "    # df1 = df[df.Brand == _brands[1]].head(20)\n",
    "    # df = pd.concat([df0, df1])\n",
    "\n",
    "    # df0 = df[df.Brand == _brands[0]].head(100)\n",
    "    # df1 = df[df.Brand == _brands[1]].head(100)\n",
    "    # df2 = df[df.Brand == _brands[2]].head(100)\n",
    "    # df3 = df[df.Brand == _brands[3]].head(100)\n",
    "    # df4 = df[df.Brand == _brands[4]].head(100)\n",
    "    # df = pd.concat([df0, df1, df2, df3, df4])\n",
    "\n",
    "    df = df.reset_index()\n",
    "    df.drop(columns='index', inplace=True)\n",
    "\n",
    "    print(df.shape)\n",
    "    print(df.Brand.value_counts().reset_index())\n",
    "\n",
    "    print(df.head(3))\n",
    "\n",
    "    return df"
   ]
  },
  {
   "cell_type": "markdown",
   "metadata": {
    "id": "F0RHGfICWjbr"
   },
   "source": [
    "# Transformation and storage"
   ]
  },
  {
   "cell_type": "code",
   "execution_count": 13,
   "metadata": {
    "id": "WAySi-V2YQjd"
   },
   "outputs": [],
   "source": [
    "def transform_and_store_output(dfmain, pwd, all_product_output_list, s3path, filename ):\n",
    "\n",
    "    df_ = pd.json_normalize(all_product_output_list).T.reset_index()\n",
    "    df_.columns=['Product Image', 'attr']\n",
    "    df_.head(3)\n",
    "\n",
    "\n",
    "    newcolumns = ['Brand',\n",
    "                'Collaborations',\n",
    "                'Limited_Edition',\n",
    "\n",
    "                'Product_details',\n",
    "\n",
    "                'Colors',\n",
    "                'Design_Elements',\n",
    "                'Influence',\n",
    "\n",
    "                'Price_Range',\n",
    "                'Positioning',\n",
    "\n",
    "                'Consumer_Demographics',\n",
    "                'Consumer_Lifestyle_Preference',\n",
    "                'Consumer_Fashion_Sense',\n",
    "\n",
    "                'Occassion_or_Context',\n",
    "\n",
    "                'Heritage',\n",
    "                'Exclusivity'\n",
    "              ]\n",
    "\n",
    "    df_[newcolumns] = df_['attr'].to_list()\n",
    "    df_.drop(columns='attr', inplace=True)\n",
    "\n",
    "    dfmain = pd.merge(dfmain, df_, on='Product Image', how='left')\n",
    "\n",
    "    print(filename)\n",
    "    dfmain.to_csv(filename, index=False)\n",
    "\n",
    "    dfmain = dataCleaning(dfmain)\n",
    "\n",
    "    s3bucket, pwd = S3_setup(pwd)\n",
    "\n",
    "    s3DirectAccessLink = storeS3(dfmain, s3bucket=s3bucket, s3pwd = pwd, s3path=s3path, s3filename= filename)\n",
    "    print(\"Link:\", s3DirectAccessLink)\n",
    "\n"
   ]
  },
  {
   "cell_type": "code",
   "execution_count": 14,
   "metadata": {
    "id": "UA4R8IHaWjbs"
   },
   "outputs": [],
   "source": [
    "def store_ImageByte(dfmain, pwd, s3path, filename ):\n",
    "\n",
    "    s3bucket, pwd = S3_setup(pwd)\n",
    "    s3DirectAccessLink = storeS3(dfmain, s3bucket=s3bucket, s3pwd = pwd, s3path=s3path, s3filename= filename)\n",
    "    print(\"Link:\", s3DirectAccessLink)\n"
   ]
  },
  {
   "cell_type": "code",
   "execution_count": 15,
   "metadata": {
    "id": "X4wBFDHhkKPN"
   },
   "outputs": [],
   "source": [
    "\n",
    "\n",
    "def get_gemini_output(u):\n",
    "\n",
    "    one_product_output_list = []\n",
    "    to=0\n",
    "\n",
    "    try:\n",
    "        timeout = 200\n",
    "        signal.signal(signal.SIGALRM, alarm_handler)\n",
    "        signal.alarm(timeout)\n",
    "\n",
    "        _image = load_image_from_url(u)\n",
    "\n",
    "        if i%10 == 0 and to==0:\n",
    "            time.sleep(10)\n",
    "\n",
    "        for _prompt in prompt_string_list:\n",
    "            time.sleep(5)\n",
    "            try:\n",
    "                model_output = get_gemini_multiPrompt_response(_image, _prompt)\n",
    "                print(\"\\n\",model_output)\n",
    "                one_product_output_list.append(model_output)\n",
    "                to=0\n",
    "\n",
    "            except:\n",
    "                model_output = 'ResourceExhausted'\n",
    "                one_product_output_list.append(model_output)\n",
    "                print('ResourceExhausted Error')\n",
    "                time.sleep(5)\n",
    "\n",
    "    except TimeoutExpired:\n",
    "        print(\"Timeout occurred\")\n",
    "        to=1\n",
    "        one_product_output_list = ['TimeOut']*len(prompt_string_list)\n",
    "\n",
    "    finally:\n",
    "        signal.alarm(0)\n",
    "\n",
    "\n",
    "    return one_product_output_list\n"
   ]
  },
  {
   "cell_type": "code",
   "execution_count": 16,
   "metadata": {
    "colab": {
     "base_uri": "https://localhost:8080/"
    },
    "id": "21t-JEKXdSYl",
    "outputId": "b4a31fc2-e9b3-48ce-e4ad-5d6122dc5baf"
   },
   "outputs": [
    {
     "name": "stdout",
     "output_type": "stream",
     "text": [
      "Successfully set environment credentials.\n"
     ]
    }
   ],
   "source": [
    "set_gcloud_adc_env()"
   ]
  },
  {
   "cell_type": "markdown",
   "metadata": {
    "id": "kDNmXrn3Wjbs"
   },
   "source": [
    "# Prompts for Gemini"
   ]
  },
  {
   "cell_type": "code",
   "execution_count": 17,
   "metadata": {
    "id": "3wUOaAuCag2w"
   },
   "outputs": [],
   "source": [
    "\n",
    "\n",
    "\n",
    "\n",
    "# prompt_string_list = [\n",
    "#     \"Analyze the product image and describe from a fashion expert perspective in less than 100 words.\",\n",
    "#     \"Analyze the product image and describe it in exactly five keywords on design of this product from fashion expert perspective, seperated by semicolon\",\n",
    "#     \"Analyze the product image and return category (for example : shoes), sub_category (for example : sneakers), product_type (for example : high tops), gender (e.g. Male or Female), all colours ( e.g. red, white, blue), dominant colour (e.g. red), recent selling price range of the product in GBP currency (e.g. 100-130 GBP),  best season to use this product, material composition of this product,  seperated by semi colon.\",\n",
    "#     \"Analyze the product image and describe what majority of customers like about this product\",\n",
    "#     \"Analyze the product image and explain if this product is in a declining trend or increasing trend\",\n",
    "#     \"Analyze the product image and tell who is the target customer for this\"\n",
    "# ]\n",
    "\n",
    "# prompt_string_list = [\n",
    "#     \"Analyze the product image and describe from a fashion expert perspective in less than 100 words.\",\n",
    "#     \"Analyze the product image and describe it in exactly five keywords on design of this product from fashion expert perspective, seperated by semicolon\",\n",
    "#     \"Analyze the product image and return category, sub_category, product_type, gender, all colours, dominant colour, recent selling price range of the product in GBP currency,  best season to use this product, material composition of this product, is an occasion or casual wear, first ever release year month, seperated by semi colon.\",\n",
    "#     \"Please analyse the product image and just provide if there were any collaboration associated to the brand of this product with any sports, celebrity or organisation in one sentence\",\n",
    "#     \"Please analyze the product image, demographics of the target customer of this product and return Gender, Age group, profession, Income group, Region, fashion preference, Social media preference, Sports preference, seperated by semi colon.\"\n",
    "# ]\n",
    "\n",
    "prompt_string_list = [\n",
    "\n",
    "    \"Identify the brand\",\n",
    "    \"Highlight any known heritage, including significant collaborations (e.g., with designers or other brands) or endorsements (celebrity or influencer affiliations) tied to the product\",\n",
    "    \"Mention if the product is part of any special collections or limited editions\",\n",
    "\n",
    "    \"Determine the product category (e.g., apparel, footwear, accessories), specify the sub-category within the category (e.g., sneakers, handbags, jackets), define the exact product type (e.g., high-top sneakers, leather backpack, bomber jacket)\",\n",
    "\n",
    "    \"Describe the product’s dominant color and any secondary colors\",\n",
    "    \"Highlight key design elements, such as patterns, materials, textures, or unique features (e.g., embellishments, stitching, logos)\",\n",
    "    \"Assess whether the product's design reflects any cultural, regional, or symbolic influence (e.g., traditional patterns, local craftsmanship, or region-specific designs)\",\n",
    "\n",
    "    \"Based on the brand, product type, and potential collaborations or endorsements, suggest a tentative price range in USD\",\n",
    "    \"Evaluate the product’s market positioning (e.g., luxury, premium, mass-market, niche)\",\n",
    "\n",
    "    \"Suggest the likely age group, gender, and socioeconomic background of the target consumer\",\n",
    "    \"Describe the typical lifestyle preferences of the consumer (e.g., urban, rural, professional, creative, athletic)\",\n",
    "    \"Define the consumer’s fashion sense (e.g., casual, formal, trendy, avant-garde, luxury)\",\n",
    "\n",
    "    \"Suggest specific occasions or contexts where this product could be worn or used by the target consumer like Social events: (e.g., parties, weddings, or dinners) or Professional settings: (e.g., work meetings, corporate events) or Casual outings: (e.g., coffee dates, shopping trips) or Seasonal use: (e.g., summer vacations, winter getaways) or Sports or activities: (e.g., gym, hiking, outdoor events) or Special or cultural occasions: (e.g., festivals, religious ceremonies) or Travel or leisure: (e.g., holidays, weekend trips, casual city strolls)\",\n",
    "\n",
    "    \"Assess whether the product has any historical significance or represents part of a heritage collection\",\n",
    "    \"Identify if the product is associated with exclusivity through limited editions, collaborations, or rare releases that might elevate its appeal to collectors or fashion enthusiasts\"\n",
    "\n",
    "    ]\n",
    "\n",
    "\n",
    "prompt_string_list = [\n",
    "\n",
    "    \"Determine the product category (e.g., apparel, footwear, accessories), specify the sub-category within the category (e.g., sneakers, handbags, jackets), define the exact product type (e.g., high-top sneakers, leather backpack, bomber jacket)\",\n",
    "    \"Describe the product’s dominant color and any secondary colors\",\n",
    "    \"Evaluate the product’s market positioning (e.g., luxury, premium, mass-market, niche)\",\n",
    "    \"Suggest the likely age group, gender, and socioeconomic background of the target consumer\"\n",
    "    ]\n"
   ]
  },
  {
   "cell_type": "markdown",
   "metadata": {
    "id": "aX2XyEuQWjbt"
   },
   "source": [
    "# Main 1"
   ]
  },
  {
   "cell_type": "code",
   "execution_count": 28,
   "metadata": {
    "colab": {
     "base_uri": "https://localhost:8080/"
    },
    "id": "XTPPgHjfag0Z",
    "outputId": "247f6a61-1eeb-4182-a581-a01d20b08c9f"
   },
   "outputs": [
    {
     "name": "stdout",
     "output_type": "stream",
     "text": [
      "                 index  Brand\n",
      "0                  APL   1425\n",
      "1  Christian Louboutin    949\n",
      "2                Sorel    875\n",
      "3            Represent    820\n",
      "4                Amiri    734\n",
      "5                Autry    641\n",
      "6            Cole Haan    567\n",
      "7                 Veja    560\n",
      "(6571, 33)\n",
      "                 index  Brand\n",
      "0                  APL   1425\n",
      "1  Christian Louboutin    949\n",
      "2                Sorel    875\n",
      "3            Represent    820\n",
      "4                Amiri    734\n",
      "5                Autry    641\n",
      "6            Cole Haan    567\n",
      "7                 Veja    560\n",
      "  Country                        Website  \\\n",
      "0      UK  https://www.autry-usa.com/en/   \n",
      "1      UK  https://www.autry-usa.com/en/   \n",
      "2      UK  https://www.autry-usa.com/en/   \n",
      "\n",
      "                                         Product URL   Product Code  \\\n",
      "0  https://www.autry-usa.com/en/woman/apparel/bot...  8056713266648   \n",
      "1  https://www.autry-usa.com/en/woman/apparel/top...  8056713265498   \n",
      "2  https://www.autry-usa.com/en/man/apparel/top/a...  8056713268048   \n",
      "\n",
      "                          Product Name Product Category Product sub Category  \\\n",
      "0  ACTION PANTS IN MELANGE GRAY COTTON          APPAREL               BOTTOM   \n",
      "1         ANORAK JACKET IN AZURE NYLON          APPAREL                  TOP   \n",
      "2         ANORAK JACKET IN AZURE NYLON          APPAREL                  TOP   \n",
      "\n",
      "  Product type                                      Product Image  Brand  ...  \\\n",
      "0            0  https://www.autry-usa.com/upload/articoli/dett...  Autry  ...   \n",
      "1            0  https://www.autry-usa.com/upload/articoli/dett...  Autry  ...   \n",
      "2            0  https://www.autry-usa.com/upload/articoli/dett...  Autry  ...   \n",
      "\n",
      "  Country of origin Ratings Reviews Vendor  \\\n",
      "0                 0     0.0     0.0  AUTRY   \n",
      "1                 0     0.0     0.0  AUTRY   \n",
      "2                 0     0.0     0.0  AUTRY   \n",
      "\n",
      "                                              Images  rank  Crawl_Date  \\\n",
      "0  ['https://www.autry-usa.com/upload/articoli/zo...     1    20240927   \n",
      "1  ['https://www.autry-usa.com/upload/articoli/zo...     2    20240927   \n",
      "2  ['https://www.autry-usa.com/upload/articoli/zo...     3    20240927   \n",
      "\n",
      "                      data_name Release_Month  datestored  \n",
      "0  autry_uk_report_09282024.csv             0  2024-10-03  \n",
      "1  autry_uk_report_09282024.csv             0  2024-10-03  \n",
      "2  autry_uk_report_09282024.csv             0  2024-10-03  \n",
      "\n",
      "[3 rows x 33 columns]\n"
     ]
    }
   ],
   "source": [
    "multimodal_model = project_setup()\n",
    "url = 'Product Image'\n",
    "\n",
    "filename = 's3://oab-aw-data-insights-s3/datarepo/transformed/testing/brand_d2c/brandD2C_marketplace_gemini_ai_2024-10-03.csv'\n",
    "# filename = 'ecommerce_marketplace_subset_gemini_ai_2024-09-29.csv'\n",
    "df = load_and_prepare_data(filename, pwd)"
   ]
  },
  {
   "cell_type": "code",
   "execution_count": 29,
   "metadata": {
    "id": "WKYGZ5WJWjbt"
   },
   "outputs": [],
   "source": [
    "footwear_category_list = ['footwear', 'sneakers', 'shoes', 'new arrivals woman', 'new arrivals man']"
   ]
  },
  {
   "cell_type": "code",
   "execution_count": 30,
   "metadata": {
    "colab": {
     "base_uri": "https://localhost:8080/"
    },
    "id": "PD0rVdR0Wjbt",
    "outputId": "f57f7701-5a8d-40ca-9168-6c083ebc198a"
   },
   "outputs": [
    {
     "data": {
      "text/plain": [
       "Index(['Country', 'Website', 'Product URL', 'Product Code', 'Product Name',\n",
       "       'Product Category', 'Product sub Category', 'Product type',\n",
       "       'Product Image', 'Brand', 'Colorway', 'Availability', 'Gender',\n",
       "       'Price Currency', 'MRP', 'Price', 'Discount', 'Size', 'Release Date',\n",
       "       'Tags', 'Description', 'attributes', 'Material', 'Country of origin',\n",
       "       'Ratings', 'Reviews', 'Vendor', 'Images', 'rank', 'Crawl_Date',\n",
       "       'data_name', 'Release_Month', 'datestored'],\n",
       "      dtype='object')"
      ]
     },
     "execution_count": 30,
     "metadata": {},
     "output_type": "execute_result"
    }
   ],
   "source": [
    "df['Product Category'].str.lower().value_counts(dropna=False)\n",
    "\n",
    "df.shape\n",
    "\n",
    "df = df[df['Product Category'].str.lower().isin(footwear_category_list)]\n",
    "\n",
    "df.shape\n",
    "\n",
    "df['Product Category'].str.lower().value_counts(dropna=False)\n",
    "\n",
    "df.columns"
   ]
  },
  {
   "cell_type": "markdown",
   "metadata": {
    "id": "jgKqcz6SWjbt"
   },
   "source": [
    "# Main 2"
   ]
  },
  {
   "cell_type": "code",
   "execution_count": 31,
   "metadata": {
    "colab": {
     "base_uri": "https://localhost:8080/",
     "height": 366
    },
    "id": "IsYhQ22qWjbt",
    "outputId": "d3537cc3-c6e0-4399-a030-19ae3cac60e9"
   },
   "outputs": [
    {
     "data": {
      "text/plain": [
       "APL                    1423\n",
       "Sorel                   875\n",
       "Veja                    560\n",
       "Christian Louboutin     489\n",
       "Cole Haan               402\n",
       "Autry                   327\n",
       "Amiri                   133\n",
       "Represent                95\n",
       "Name: Brand, dtype: int64"
      ]
     },
     "execution_count": 31,
     "metadata": {},
     "output_type": "execute_result"
    }
   ],
   "source": [
    "df.Brand.value_counts(dropna=False)"
   ]
  },
  {
   "cell_type": "code",
   "execution_count": 32,
   "metadata": {
    "colab": {
     "base_uri": "https://localhost:8080/"
    },
    "id": "ZdSeA2ZrWjbt",
    "outputId": "36d2b9a5-62c1-48b2-98bd-ef705cc6c1dd"
   },
   "outputs": [
    {
     "data": {
      "text/plain": [
       "['Autry',\n",
       " 'Amiri',\n",
       " 'Christian Louboutin',\n",
       " 'Veja',\n",
       " 'APL',\n",
       " 'Cole Haan',\n",
       " 'Represent',\n",
       " 'Sorel']"
      ]
     },
     "execution_count": 32,
     "metadata": {},
     "output_type": "execute_result"
    }
   ],
   "source": [
    "BR = list(df.Brand.unique())\n",
    "BR"
   ]
  },
  {
   "cell_type": "code",
   "execution_count": 33,
   "metadata": {
    "id": "s4sjTM-vWjb1"
   },
   "outputs": [],
   "source": [
    "df_URL = df[~(df.Brand.isin(['Autry', 'APL']))][['Product Image']]"
   ]
  },
  {
   "cell_type": "code",
   "execution_count": 34,
   "metadata": {
    "colab": {
     "base_uri": "https://localhost:8080/",
     "height": 143
    },
    "id": "VAhqGubYWjb1",
    "outputId": "e30ef4c1-16dc-4d22-b864-255c8bf0f3f3"
   },
   "outputs": [
    {
     "data": {
      "text/html": [
       "<div>\n",
       "<style scoped>\n",
       "    .dataframe tbody tr th:only-of-type {\n",
       "        vertical-align: middle;\n",
       "    }\n",
       "\n",
       "    .dataframe tbody tr th {\n",
       "        vertical-align: top;\n",
       "    }\n",
       "\n",
       "    .dataframe thead th {\n",
       "        text-align: right;\n",
       "    }\n",
       "</style>\n",
       "<table border=\"1\" class=\"dataframe\">\n",
       "  <thead>\n",
       "    <tr style=\"text-align: right;\">\n",
       "      <th></th>\n",
       "      <th>Product Image</th>\n",
       "    </tr>\n",
       "  </thead>\n",
       "  <tbody>\n",
       "    <tr>\n",
       "      <th>650</th>\n",
       "      <td>https://amiri.com/cdn/shop/files/d7dc9e74-a124...</td>\n",
       "    </tr>\n",
       "    <tr>\n",
       "      <th>676</th>\n",
       "      <td>https://amiri.com/cdn/shop/products/6_Pre-SS24...</td>\n",
       "    </tr>\n",
       "    <tr>\n",
       "      <th>677</th>\n",
       "      <td>https://amiri.com/cdn/shop/products/9_Pre-SS24...</td>\n",
       "    </tr>\n",
       "  </tbody>\n",
       "</table>\n",
       "</div>"
      ],
      "text/plain": [
       "                                         Product Image\n",
       "650  https://amiri.com/cdn/shop/files/d7dc9e74-a124...\n",
       "676  https://amiri.com/cdn/shop/products/6_Pre-SS24...\n",
       "677  https://amiri.com/cdn/shop/products/9_Pre-SS24..."
      ]
     },
     "execution_count": 34,
     "metadata": {},
     "output_type": "execute_result"
    }
   ],
   "source": [
    "df_URL.head(3)"
   ]
  },
  {
   "cell_type": "code",
   "execution_count": 35,
   "metadata": {
    "id": "ko7_YILVWjb1"
   },
   "outputs": [],
   "source": [
    "df_URL = df_URL.reset_index()\n",
    "df_URL.drop(columns='index', inplace=True)"
   ]
  },
  {
   "cell_type": "code",
   "execution_count": 36,
   "metadata": {
    "colab": {
     "base_uri": "https://localhost:8080/"
    },
    "id": "epJffzL2Wjb1",
    "outputId": "be0a62e3-0f26-45dc-8e93-7d4a397ea042"
   },
   "outputs": [
    {
     "data": {
      "text/plain": [
       "(2554, 1)"
      ]
     },
     "execution_count": 36,
     "metadata": {},
     "output_type": "execute_result"
    }
   ],
   "source": [
    "df_URL.shape"
   ]
  },
  {
   "cell_type": "code",
   "execution_count": 37,
   "metadata": {
    "id": "MNkhhcEnWjb1"
   },
   "outputs": [],
   "source": [
    "def timeout_for_loading_Image(u):\n",
    "\n",
    "    for i in range(3):\n",
    "\n",
    "        try:\n",
    "            timeout = 15\n",
    "            signal.signal(signal.SIGALRM, alarm_handler)\n",
    "            signal.alarm(timeout)\n",
    "            _imagebytes = load_image_bytes_from_url(u)\n",
    "            break;\n",
    "\n",
    "        except TimeoutExpired:\n",
    "            print('T'+str(i))\n",
    "            _imagebytes = ''\n",
    "\n",
    "        finally:\n",
    "            signal.alarm(0)\n",
    "\n",
    "    return _imagebytes\n"
   ]
  },
  {
   "cell_type": "code",
   "execution_count": 38,
   "metadata": {
    "colab": {
     "base_uri": "https://localhost:8080/"
    },
    "id": "sPJZkQVZWjb2",
    "outputId": "6c18c63b-dbc9-42fd-e5b6-354fdac23a88"
   },
   "outputs": [
    {
     "data": {
      "text/plain": [
       "2554"
      ]
     },
     "execution_count": 38,
     "metadata": {},
     "output_type": "execute_result"
    }
   ],
   "source": [
    "URL = list(df_URL[url].unique())\n",
    "len(URL)"
   ]
  },
  {
   "cell_type": "code",
   "execution_count": 39,
   "metadata": {
    "colab": {
     "base_uri": "https://localhost:8080/"
    },
    "id": "g78OtOorUMTr",
    "outputId": "7ede3c00-8240-4da2-b9a0-35f164b58a7a"
   },
   "outputs": [
    {
     "name": "stderr",
     "output_type": "stream",
     "text": [
      "2024-10-04 08:42:34,708\tINFO worker.py:1786 -- Started a local Ray instance.\n",
      "2024-10-04 08:42:35,832\tINFO worker.py:1619 -- Calling ray.init() again after it has already been called.\n"
     ]
    },
    {
     "name": "stdout",
     "output_type": "stream",
     "text": [
      "8.0\n",
      "8.0\n"
     ]
    }
   ],
   "source": [
    "ray.shutdown()\n",
    "ray.init()\n",
    "print(ray.available_resources()['CPU'])\n",
    "ray.init(num_cpus=6, ignore_reinit_error=True)\n",
    "print(ray.available_resources()['CPU'])"
   ]
  },
  {
   "cell_type": "code",
   "execution_count": 40,
   "metadata": {
    "id": "aYNnVua-Wjb2"
   },
   "outputs": [],
   "source": [
    "@ray.remote\n",
    "def get_data_parallel(u):\n",
    "    try:\n",
    "        _imagebytes = timeout_for_loading_Image(u)\n",
    "    except:\n",
    "        _imagebytes = 'Forbidden_403_error'\n",
    "\n",
    "    return _imagebytes"
   ]
  },
  {
   "cell_type": "code",
   "execution_count": 41,
   "metadata": {
    "id": "Y-AzViYZWjb2"
   },
   "outputs": [],
   "source": [
    "IMAGE_byte = [get_data_parallel.remote(u) for u in URL]\n",
    "IMAGE_byte_data = ray.get(IMAGE_byte)"
   ]
  },
  {
   "cell_type": "markdown",
   "metadata": {
    "id": "PIotF0ylmJaD"
   },
   "source": [
    "# Gemini Response"
   ]
  },
  {
   "cell_type": "code",
   "execution_count": 227,
   "metadata": {
    "colab": {
     "base_uri": "https://localhost:8080/"
    },
    "id": "eP80tgP8PFhR",
    "outputId": "80500fa1-8de0-410c-b45d-3f118ccefffd"
   },
   "outputs": [
    {
     "name": "stderr",
     "output_type": "stream",
     "text": [
      "2024-10-04 15:18:48,653\tINFO worker.py:1786 -- Started a local Ray instance.\n",
      "2024-10-04 15:18:49,936\tINFO worker.py:1619 -- Calling ray.init() again after it has already been called.\n"
     ]
    },
    {
     "name": "stdout",
     "output_type": "stream",
     "text": [
      "8.0\n",
      "8.0\n"
     ]
    }
   ],
   "source": [
    "ray.shutdown()\n",
    "ray.init()\n",
    "print(ray.available_resources()['CPU'])\n",
    "ray.init(num_cpus=6, ignore_reinit_error=True)\n",
    "print(ray.available_resources()['CPU'])"
   ]
  },
  {
   "cell_type": "code",
   "execution_count": 43,
   "metadata": {
    "id": "vB3gSgMVWjb3"
   },
   "outputs": [],
   "source": [
    "@ray.remote\n",
    "def get_Gemini_response_using_ImageByte(_imageByte):\n",
    "\n",
    "    _image = Image.from_bytes(_imageByte)\n",
    "    one_product_output_list = []\n",
    "\n",
    "    for _prompt in prompt_string_list:\n",
    "        time.sleep(4)\n",
    "        try:\n",
    "            model_output = get_gemini_multiPrompt_response(_image, _prompt)\n",
    "            one_product_output_list.append(model_output)\n",
    "        except:\n",
    "            one_product_output_list.append('unknown_error')\n",
    "\n",
    "    return one_product_output_list\n"
   ]
  },
  {
   "cell_type": "code",
   "execution_count": 44,
   "metadata": {
    "id": "idAjpir-OsVQ"
   },
   "outputs": [],
   "source": [
    "all_product_output_list = [get_Gemini_response_using_ImageByte.remote(ib) for ib in IMAGE_byte_data]"
   ]
  },
  {
   "cell_type": "code",
   "execution_count": 45,
   "metadata": {
    "colab": {
     "base_uri": "https://localhost:8080/",
     "height": 1000
    },
    "id": "j4dDOqh-PsuZ",
    "outputId": "e1b4b7ab-651e-4ba1-df15-d160c7a3c112"
   },
   "outputs": [],
   "source": [
    "GEMINI_response = ray.get(all_product_output_list)"
   ]
  },
  {
   "cell_type": "markdown",
   "metadata": {
    "id": "plEV8xFtmpkH"
   },
   "source": [
    "# S3 Storage"
   ]
  },
  {
   "cell_type": "markdown",
   "metadata": {
    "id": "NIeflsxtDStx"
   },
   "source": []
  },
  {
   "cell_type": "code",
   "execution_count": 46,
   "metadata": {
    "id": "OhZfh9BeCxp3"
   },
   "outputs": [],
   "source": [
    "df_result = pd.DataFrame({'URL':URL, 'GeminiResponse':GEMINI_response})"
   ]
  },
  {
   "cell_type": "code",
   "execution_count": 47,
   "metadata": {
    "id": "Ni2KlT2eG5X5"
   },
   "outputs": [
    {
     "data": {
      "text/plain": [
       "(2554, 2)"
      ]
     },
     "execution_count": 47,
     "metadata": {},
     "output_type": "execute_result"
    }
   ],
   "source": [
    "df_result.shape"
   ]
  },
  {
   "cell_type": "code",
   "execution_count": 48,
   "metadata": {
    "id": "uHickSkDEZ_5"
   },
   "outputs": [
    {
     "data": {
      "text/html": [
       "<div>\n",
       "<style scoped>\n",
       "    .dataframe tbody tr th:only-of-type {\n",
       "        vertical-align: middle;\n",
       "    }\n",
       "\n",
       "    .dataframe tbody tr th {\n",
       "        vertical-align: top;\n",
       "    }\n",
       "\n",
       "    .dataframe thead th {\n",
       "        text-align: right;\n",
       "    }\n",
       "</style>\n",
       "<table border=\"1\" class=\"dataframe\">\n",
       "  <thead>\n",
       "    <tr style=\"text-align: right;\">\n",
       "      <th></th>\n",
       "      <th>URL</th>\n",
       "      <th>GeminiResponse</th>\n",
       "    </tr>\n",
       "  </thead>\n",
       "  <tbody>\n",
       "    <tr>\n",
       "      <th>2551</th>\n",
       "      <td>https://columbia.scene7.com/is/image/ColumbiaS...</td>\n",
       "      <td>[  The product is footwear, more specifically ...</td>\n",
       "    </tr>\n",
       "    <tr>\n",
       "      <th>2552</th>\n",
       "      <td>https://columbia.scene7.com/is/image/ColumbiaS...</td>\n",
       "      <td>[  The product is footwear, and the sub-catego...</td>\n",
       "    </tr>\n",
       "    <tr>\n",
       "      <th>2553</th>\n",
       "      <td>https://columbia.scene7.com/is/image/ColumbiaS...</td>\n",
       "      <td>[  - Category: Footwear\\n- Sub-category: Clogs...</td>\n",
       "    </tr>\n",
       "  </tbody>\n",
       "</table>\n",
       "</div>"
      ],
      "text/plain": [
       "                                                    URL  \\\n",
       "2551  https://columbia.scene7.com/is/image/ColumbiaS...   \n",
       "2552  https://columbia.scene7.com/is/image/ColumbiaS...   \n",
       "2553  https://columbia.scene7.com/is/image/ColumbiaS...   \n",
       "\n",
       "                                         GeminiResponse  \n",
       "2551  [  The product is footwear, more specifically ...  \n",
       "2552  [  The product is footwear, and the sub-catego...  \n",
       "2553  [  - Category: Footwear\\n- Sub-category: Clogs...  "
      ]
     },
     "execution_count": 48,
     "metadata": {},
     "output_type": "execute_result"
    }
   ],
   "source": [
    "df_result.tail(3)"
   ]
  },
  {
   "cell_type": "code",
   "execution_count": 49,
   "metadata": {
    "id": "t7663PtrETUu"
   },
   "outputs": [],
   "source": [
    "\n",
    "newcolumns = ['Brand',\n",
    "            'Collaborations',\n",
    "            'Limited_Edition',\n",
    "\n",
    "            'Product_details',\n",
    "\n",
    "            'Colors',\n",
    "            'Design_Elements',\n",
    "            'Influence',\n",
    "\n",
    "            'Price_Range',\n",
    "            'Positioning',\n",
    "\n",
    "            'Consumer_Demographics',\n",
    "            'Consumer_Lifestyle_Preference',\n",
    "            'Consumer_Fashion_Sense',\n",
    "\n",
    "            'Occassion_or_Context',\n",
    "\n",
    "            'Heritage',\n",
    "            'Exclusivity'\n",
    "          ]\n",
    "\n",
    "\n",
    "newcolumns = [\n",
    "            'Product_details',\n",
    "            'Colors',\n",
    "            'Positioning',\n",
    "            'Consumer_Demographics'\n",
    "          ]\n",
    "\n",
    "df_result[newcolumns] = df_result['GeminiResponse'].to_list()\n",
    "df_result.drop(columns='GeminiResponse', inplace=True)"
   ]
  },
  {
   "cell_type": "code",
   "execution_count": 50,
   "metadata": {
    "id": "8LOcFFJhFLb3"
   },
   "outputs": [
    {
     "name": "stdout",
     "output_type": "stream",
     "text": [
      "Success!\n",
      "Link: https://ap-south-1.console.aws.amazon.com/s3/object/oab-aw-data-insights-s3?region=ap-south-1&bucketType=general&prefix=datarepo/gemini_vision_pro_output/testing/ecommerce/Brand_LinePlan_Gemini_Prompt_Response_12024-10-04.csv&showversions=false\n"
     ]
    }
   ],
   "source": [
    "\n",
    "dt = '2024-10-04'\n",
    "filename = 'Brand_LinePlan_Gemini_Prompt_Response_1'+dt+'.csv'\n",
    "s3path = \"datarepo/gemini_vision_pro_output/testing/ecommerce/\"\n",
    "\n",
    "s3bucket, pwd = S3_setup(pwd)\n",
    "s3DirectAccessLink = storeS3(df_result, s3bucket=s3bucket, s3pwd = pwd, s3path=s3path, s3filename= filename)\n",
    "print(\"Link:\", s3DirectAccessLink)\n"
   ]
  },
  {
   "cell_type": "code",
   "execution_count": 51,
   "metadata": {
    "id": "on79XPSfVkLg"
   },
   "outputs": [],
   "source": [
    "ray.shutdown()"
   ]
  },
  {
   "cell_type": "markdown",
   "metadata": {
    "id": "j38hTFO-fK6J"
   },
   "source": [
    "# Code Ends"
   ]
  },
  {
   "cell_type": "code",
   "execution_count": 54,
   "metadata": {},
   "outputs": [
    {
     "data": {
      "text/plain": [
       "(2554, 5)"
      ]
     },
     "execution_count": 54,
     "metadata": {},
     "output_type": "execute_result"
    }
   ],
   "source": [
    "df_result.shape"
   ]
  },
  {
   "cell_type": "code",
   "execution_count": 53,
   "metadata": {},
   "outputs": [
    {
     "data": {
      "text/plain": [
       "(515, 5)"
      ]
     },
     "execution_count": 53,
     "metadata": {},
     "output_type": "execute_result"
    }
   ],
   "source": [
    "df_result[df_result.Product_details=='unknown_error'].shape"
   ]
  },
  {
   "cell_type": "code",
   "execution_count": 55,
   "metadata": {},
   "outputs": [
    {
     "data": {
      "text/plain": [
       "(4304, 33)"
      ]
     },
     "execution_count": 55,
     "metadata": {},
     "output_type": "execute_result"
    }
   ],
   "source": [
    "df.shape"
   ]
  },
  {
   "cell_type": "code",
   "execution_count": 56,
   "metadata": {},
   "outputs": [
    {
     "data": {
      "text/html": [
       "<div>\n",
       "<style scoped>\n",
       "    .dataframe tbody tr th:only-of-type {\n",
       "        vertical-align: middle;\n",
       "    }\n",
       "\n",
       "    .dataframe tbody tr th {\n",
       "        vertical-align: top;\n",
       "    }\n",
       "\n",
       "    .dataframe thead th {\n",
       "        text-align: right;\n",
       "    }\n",
       "</style>\n",
       "<table border=\"1\" class=\"dataframe\">\n",
       "  <thead>\n",
       "    <tr style=\"text-align: right;\">\n",
       "      <th></th>\n",
       "      <th>Country</th>\n",
       "      <th>Website</th>\n",
       "      <th>Product URL</th>\n",
       "      <th>Product Code</th>\n",
       "      <th>Product Name</th>\n",
       "      <th>Product Category</th>\n",
       "      <th>Product sub Category</th>\n",
       "      <th>Product type</th>\n",
       "      <th>Product Image</th>\n",
       "      <th>Brand</th>\n",
       "      <th>...</th>\n",
       "      <th>rank</th>\n",
       "      <th>Crawl_Date</th>\n",
       "      <th>data_name</th>\n",
       "      <th>Release_Month</th>\n",
       "      <th>datestored</th>\n",
       "      <th>URL</th>\n",
       "      <th>Product_details</th>\n",
       "      <th>Colors</th>\n",
       "      <th>Positioning</th>\n",
       "      <th>Consumer_Demographics</th>\n",
       "    </tr>\n",
       "  </thead>\n",
       "  <tbody>\n",
       "    <tr>\n",
       "      <th>0</th>\n",
       "      <td>UK</td>\n",
       "      <td>https://amiri.com/en-gb/</td>\n",
       "      <td>https://amiri.com/en-gb/products/skel-top-low-...</td>\n",
       "      <td>6896740073537</td>\n",
       "      <td>SKEL-TOP LOW - BLACK/WHITE</td>\n",
       "      <td>Footwear</td>\n",
       "      <td>Footwear</td>\n",
       "      <td>MENS CORE COLLECTION FOOTWEAR</td>\n",
       "      <td>https://amiri.com/cdn/shop/files/d7dc9e74-a124...</td>\n",
       "      <td>Amiri</td>\n",
       "      <td>...</td>\n",
       "      <td>10</td>\n",
       "      <td>20240926</td>\n",
       "      <td>amiri_uk_report_09282024.csv</td>\n",
       "      <td>2024-05</td>\n",
       "      <td>2024-10-03</td>\n",
       "      <td>https://amiri.com/cdn/shop/files/d7dc9e74-a124...</td>\n",
       "      <td>Product category: Footwear\\nProduct sub-cate...</td>\n",
       "      <td>The dominant color is white. The secondary c...</td>\n",
       "      <td>The product is a pair of sneakers. It is a l...</td>\n",
       "      <td>The target consumer is likely to be a young ...</td>\n",
       "    </tr>\n",
       "    <tr>\n",
       "      <th>1</th>\n",
       "      <td>UK</td>\n",
       "      <td>https://amiri.com/en-gb/</td>\n",
       "      <td>https://amiri.com/en-gb/products/women-stars-l...</td>\n",
       "      <td>7028769259585</td>\n",
       "      <td>WOMEN - WOMEN'S STARS LOW - Birch</td>\n",
       "      <td>Footwear</td>\n",
       "      <td>Footwear</td>\n",
       "      <td>PS24WFS004-699</td>\n",
       "      <td>https://amiri.com/cdn/shop/products/6_Pre-SS24...</td>\n",
       "      <td>Amiri</td>\n",
       "      <td>...</td>\n",
       "      <td>36</td>\n",
       "      <td>20240926</td>\n",
       "      <td>amiri_uk_report_09282024.csv</td>\n",
       "      <td>2024-05</td>\n",
       "      <td>2024-10-03</td>\n",
       "      <td>https://amiri.com/cdn/shop/products/6_Pre-SS24...</td>\n",
       "      <td>The product is footwear, more specifically s...</td>\n",
       "      <td>The dominant color is off-white and the seco...</td>\n",
       "      <td>The product is a pair of sneakers. It is a l...</td>\n",
       "      <td>The target consumer for these shoes is likel...</td>\n",
       "    </tr>\n",
       "    <tr>\n",
       "      <th>2</th>\n",
       "      <td>UK</td>\n",
       "      <td>https://amiri.com/en-gb/</td>\n",
       "      <td>https://amiri.com/en-gb/products/women-ma-runn...</td>\n",
       "      <td>7028769423425</td>\n",
       "      <td>WOMEN - WOMEN'S MA RUNNER - Brown</td>\n",
       "      <td>Footwear</td>\n",
       "      <td>Footwear</td>\n",
       "      <td>Pre-Spring 2024</td>\n",
       "      <td>https://amiri.com/cdn/shop/products/9_Pre-SS24...</td>\n",
       "      <td>Amiri</td>\n",
       "      <td>...</td>\n",
       "      <td>37</td>\n",
       "      <td>20240926</td>\n",
       "      <td>amiri_uk_report_09282024.csv</td>\n",
       "      <td>2024-05</td>\n",
       "      <td>2024-10-03</td>\n",
       "      <td>https://amiri.com/cdn/shop/products/9_Pre-SS24...</td>\n",
       "      <td>Footwear, Sneakers, Running Shoes</td>\n",
       "      <td>The dominant color is beige and the secondar...</td>\n",
       "      <td>The product appears to be a mid-range runnin...</td>\n",
       "      <td>- The target consumer is likely to be betwee...</td>\n",
       "    </tr>\n",
       "  </tbody>\n",
       "</table>\n",
       "<p>3 rows × 38 columns</p>\n",
       "</div>"
      ],
      "text/plain": [
       "  Country                   Website  \\\n",
       "0      UK  https://amiri.com/en-gb/   \n",
       "1      UK  https://amiri.com/en-gb/   \n",
       "2      UK  https://amiri.com/en-gb/   \n",
       "\n",
       "                                         Product URL   Product Code  \\\n",
       "0  https://amiri.com/en-gb/products/skel-top-low-...  6896740073537   \n",
       "1  https://amiri.com/en-gb/products/women-stars-l...  7028769259585   \n",
       "2  https://amiri.com/en-gb/products/women-ma-runn...  7028769423425   \n",
       "\n",
       "                        Product Name Product Category Product sub Category  \\\n",
       "0         SKEL-TOP LOW - BLACK/WHITE         Footwear             Footwear   \n",
       "1  WOMEN - WOMEN'S STARS LOW - Birch         Footwear             Footwear   \n",
       "2  WOMEN - WOMEN'S MA RUNNER - Brown         Footwear             Footwear   \n",
       "\n",
       "                    Product type  \\\n",
       "0  MENS CORE COLLECTION FOOTWEAR   \n",
       "1                 PS24WFS004-699   \n",
       "2                Pre-Spring 2024   \n",
       "\n",
       "                                       Product Image  Brand  ... rank  \\\n",
       "0  https://amiri.com/cdn/shop/files/d7dc9e74-a124...  Amiri  ...   10   \n",
       "1  https://amiri.com/cdn/shop/products/6_Pre-SS24...  Amiri  ...   36   \n",
       "2  https://amiri.com/cdn/shop/products/9_Pre-SS24...  Amiri  ...   37   \n",
       "\n",
       "  Crawl_Date                     data_name Release_Month  datestored  \\\n",
       "0   20240926  amiri_uk_report_09282024.csv       2024-05  2024-10-03   \n",
       "1   20240926  amiri_uk_report_09282024.csv       2024-05  2024-10-03   \n",
       "2   20240926  amiri_uk_report_09282024.csv       2024-05  2024-10-03   \n",
       "\n",
       "                                                 URL  \\\n",
       "0  https://amiri.com/cdn/shop/files/d7dc9e74-a124...   \n",
       "1  https://amiri.com/cdn/shop/products/6_Pre-SS24...   \n",
       "2  https://amiri.com/cdn/shop/products/9_Pre-SS24...   \n",
       "\n",
       "                                     Product_details  \\\n",
       "0    Product category: Footwear\\nProduct sub-cate...   \n",
       "1    The product is footwear, more specifically s...   \n",
       "2                 Footwear, Sneakers, Running Shoes    \n",
       "\n",
       "                                              Colors  \\\n",
       "0    The dominant color is white. The secondary c...   \n",
       "1    The dominant color is off-white and the seco...   \n",
       "2    The dominant color is beige and the secondar...   \n",
       "\n",
       "                                         Positioning  \\\n",
       "0    The product is a pair of sneakers. It is a l...   \n",
       "1    The product is a pair of sneakers. It is a l...   \n",
       "2    The product appears to be a mid-range runnin...   \n",
       "\n",
       "                               Consumer_Demographics  \n",
       "0    The target consumer is likely to be a young ...  \n",
       "1    The target consumer for these shoes is likel...  \n",
       "2    - The target consumer is likely to be betwee...  \n",
       "\n",
       "[3 rows x 38 columns]"
      ]
     },
     "execution_count": 56,
     "metadata": {},
     "output_type": "execute_result"
    }
   ],
   "source": [
    "df = pd.merge(df, df_result, left_on='Product Image', right_on='URL', how='inner')\n",
    "df.head(3)"
   ]
  },
  {
   "cell_type": "code",
   "execution_count": 57,
   "metadata": {},
   "outputs": [],
   "source": [
    "df.to_csv(filename, index=False)"
   ]
  },
  {
   "cell_type": "code",
   "execution_count": null,
   "metadata": {},
   "outputs": [],
   "source": []
  },
  {
   "cell_type": "code",
   "execution_count": null,
   "metadata": {},
   "outputs": [],
   "source": []
  },
  {
   "cell_type": "code",
   "execution_count": 247,
   "metadata": {},
   "outputs": [],
   "source": [
    "df_main = pd.concat([\n",
    "    pd.read_csv('./GeminiOutput_LinePlan/Brand_LinePlan_Gemini_Prompt_Response_12024-10-04.csv'),\n",
    "    pd.read_csv('./GeminiOutput_LinePlan/Brand_LinePlan_Gemini_Prompt_Response_22024-10-04.csv')\n",
    "])"
   ]
  },
  {
   "cell_type": "code",
   "execution_count": 248,
   "metadata": {},
   "outputs": [
    {
     "data": {
      "text/plain": [
       "(3977, 38)"
      ]
     },
     "execution_count": 248,
     "metadata": {},
     "output_type": "execute_result"
    }
   ],
   "source": [
    "df_main.shape"
   ]
  },
  {
   "cell_type": "code",
   "execution_count": 250,
   "metadata": {},
   "outputs": [],
   "source": [
    "df_main = df_main[~df_main.Product_details.isin(['Forbidden_403_error', 'unknown_error'])]"
   ]
  },
  {
   "cell_type": "code",
   "execution_count": 251,
   "metadata": {},
   "outputs": [
    {
     "data": {
      "text/plain": [
       "(2997, 38)"
      ]
     },
     "execution_count": 251,
     "metadata": {},
     "output_type": "execute_result"
    }
   ],
   "source": [
    "df_main.shape"
   ]
  },
  {
   "cell_type": "code",
   "execution_count": 253,
   "metadata": {},
   "outputs": [
    {
     "data": {
      "text/html": [
       "<div>\n",
       "<style scoped>\n",
       "    .dataframe tbody tr th:only-of-type {\n",
       "        vertical-align: middle;\n",
       "    }\n",
       "\n",
       "    .dataframe tbody tr th {\n",
       "        vertical-align: top;\n",
       "    }\n",
       "\n",
       "    .dataframe thead th {\n",
       "        text-align: right;\n",
       "    }\n",
       "</style>\n",
       "<table border=\"1\" class=\"dataframe\">\n",
       "  <thead>\n",
       "    <tr style=\"text-align: right;\">\n",
       "      <th></th>\n",
       "      <th>Country</th>\n",
       "      <th>Website</th>\n",
       "      <th>Product URL</th>\n",
       "      <th>Product Code</th>\n",
       "      <th>Product Name</th>\n",
       "      <th>Product Category</th>\n",
       "      <th>Product sub Category</th>\n",
       "      <th>Product type</th>\n",
       "      <th>Product Image</th>\n",
       "      <th>Brand</th>\n",
       "      <th>...</th>\n",
       "      <th>rank</th>\n",
       "      <th>Crawl_Date</th>\n",
       "      <th>data_name</th>\n",
       "      <th>Release_Month</th>\n",
       "      <th>datestored</th>\n",
       "      <th>URL</th>\n",
       "      <th>Product_details</th>\n",
       "      <th>Colors</th>\n",
       "      <th>Positioning</th>\n",
       "      <th>Consumer_Demographics</th>\n",
       "    </tr>\n",
       "  </thead>\n",
       "  <tbody>\n",
       "    <tr>\n",
       "      <th>0</th>\n",
       "      <td>UK</td>\n",
       "      <td>https://amiri.com/en-gb/</td>\n",
       "      <td>https://amiri.com/en-gb/products/skel-top-low-...</td>\n",
       "      <td>6896740073537</td>\n",
       "      <td>SKEL-TOP LOW - BLACK/WHITE</td>\n",
       "      <td>Footwear</td>\n",
       "      <td>Footwear</td>\n",
       "      <td>MENS CORE COLLECTION FOOTWEAR</td>\n",
       "      <td>https://amiri.com/cdn/shop/files/d7dc9e74-a124...</td>\n",
       "      <td>Amiri</td>\n",
       "      <td>...</td>\n",
       "      <td>10</td>\n",
       "      <td>20240926</td>\n",
       "      <td>amiri_uk_report_09282024.csv</td>\n",
       "      <td>2024-05</td>\n",
       "      <td>2024-10-03</td>\n",
       "      <td>https://amiri.com/cdn/shop/files/d7dc9e74-a124...</td>\n",
       "      <td>Product category: Footwear\\nProduct sub-cate...</td>\n",
       "      <td>The dominant color is white. The secondary c...</td>\n",
       "      <td>The product is a pair of sneakers. It is a l...</td>\n",
       "      <td>The target consumer is likely to be a young ...</td>\n",
       "    </tr>\n",
       "    <tr>\n",
       "      <th>1</th>\n",
       "      <td>UK</td>\n",
       "      <td>https://amiri.com/en-gb/</td>\n",
       "      <td>https://amiri.com/en-gb/products/women-stars-l...</td>\n",
       "      <td>7028769259585</td>\n",
       "      <td>WOMEN - WOMEN'S STARS LOW - Birch</td>\n",
       "      <td>Footwear</td>\n",
       "      <td>Footwear</td>\n",
       "      <td>PS24WFS004-699</td>\n",
       "      <td>https://amiri.com/cdn/shop/products/6_Pre-SS24...</td>\n",
       "      <td>Amiri</td>\n",
       "      <td>...</td>\n",
       "      <td>36</td>\n",
       "      <td>20240926</td>\n",
       "      <td>amiri_uk_report_09282024.csv</td>\n",
       "      <td>2024-05</td>\n",
       "      <td>2024-10-03</td>\n",
       "      <td>https://amiri.com/cdn/shop/products/6_Pre-SS24...</td>\n",
       "      <td>The product is footwear, more specifically s...</td>\n",
       "      <td>The dominant color is off-white and the seco...</td>\n",
       "      <td>The product is a pair of sneakers. It is a l...</td>\n",
       "      <td>The target consumer for these shoes is likel...</td>\n",
       "    </tr>\n",
       "    <tr>\n",
       "      <th>2</th>\n",
       "      <td>UK</td>\n",
       "      <td>https://amiri.com/en-gb/</td>\n",
       "      <td>https://amiri.com/en-gb/products/women-ma-runn...</td>\n",
       "      <td>7028769423425</td>\n",
       "      <td>WOMEN - WOMEN'S MA RUNNER - Brown</td>\n",
       "      <td>Footwear</td>\n",
       "      <td>Footwear</td>\n",
       "      <td>Pre-Spring 2024</td>\n",
       "      <td>https://amiri.com/cdn/shop/products/9_Pre-SS24...</td>\n",
       "      <td>Amiri</td>\n",
       "      <td>...</td>\n",
       "      <td>37</td>\n",
       "      <td>20240926</td>\n",
       "      <td>amiri_uk_report_09282024.csv</td>\n",
       "      <td>2024-05</td>\n",
       "      <td>2024-10-03</td>\n",
       "      <td>https://amiri.com/cdn/shop/products/9_Pre-SS24...</td>\n",
       "      <td>Footwear, Sneakers, Running Shoes</td>\n",
       "      <td>The dominant color is beige and the secondar...</td>\n",
       "      <td>The product appears to be a mid-range runnin...</td>\n",
       "      <td>- The target consumer is likely to be betwee...</td>\n",
       "    </tr>\n",
       "  </tbody>\n",
       "</table>\n",
       "<p>3 rows × 38 columns</p>\n",
       "</div>"
      ],
      "text/plain": [
       "  Country                   Website  \\\n",
       "0      UK  https://amiri.com/en-gb/   \n",
       "1      UK  https://amiri.com/en-gb/   \n",
       "2      UK  https://amiri.com/en-gb/   \n",
       "\n",
       "                                         Product URL   Product Code  \\\n",
       "0  https://amiri.com/en-gb/products/skel-top-low-...  6896740073537   \n",
       "1  https://amiri.com/en-gb/products/women-stars-l...  7028769259585   \n",
       "2  https://amiri.com/en-gb/products/women-ma-runn...  7028769423425   \n",
       "\n",
       "                        Product Name Product Category Product sub Category  \\\n",
       "0         SKEL-TOP LOW - BLACK/WHITE         Footwear             Footwear   \n",
       "1  WOMEN - WOMEN'S STARS LOW - Birch         Footwear             Footwear   \n",
       "2  WOMEN - WOMEN'S MA RUNNER - Brown         Footwear             Footwear   \n",
       "\n",
       "                    Product type  \\\n",
       "0  MENS CORE COLLECTION FOOTWEAR   \n",
       "1                 PS24WFS004-699   \n",
       "2                Pre-Spring 2024   \n",
       "\n",
       "                                       Product Image  Brand  ... rank  \\\n",
       "0  https://amiri.com/cdn/shop/files/d7dc9e74-a124...  Amiri  ...   10   \n",
       "1  https://amiri.com/cdn/shop/products/6_Pre-SS24...  Amiri  ...   36   \n",
       "2  https://amiri.com/cdn/shop/products/9_Pre-SS24...  Amiri  ...   37   \n",
       "\n",
       "  Crawl_Date                     data_name Release_Month  datestored  \\\n",
       "0   20240926  amiri_uk_report_09282024.csv       2024-05  2024-10-03   \n",
       "1   20240926  amiri_uk_report_09282024.csv       2024-05  2024-10-03   \n",
       "2   20240926  amiri_uk_report_09282024.csv       2024-05  2024-10-03   \n",
       "\n",
       "                                                 URL  \\\n",
       "0  https://amiri.com/cdn/shop/files/d7dc9e74-a124...   \n",
       "1  https://amiri.com/cdn/shop/products/6_Pre-SS24...   \n",
       "2  https://amiri.com/cdn/shop/products/9_Pre-SS24...   \n",
       "\n",
       "                                     Product_details  \\\n",
       "0    Product category: Footwear\\nProduct sub-cate...   \n",
       "1    The product is footwear, more specifically s...   \n",
       "2                 Footwear, Sneakers, Running Shoes    \n",
       "\n",
       "                                              Colors  \\\n",
       "0    The dominant color is white. The secondary c...   \n",
       "1    The dominant color is off-white and the seco...   \n",
       "2    The dominant color is beige and the secondar...   \n",
       "\n",
       "                                         Positioning  \\\n",
       "0    The product is a pair of sneakers. It is a l...   \n",
       "1    The product is a pair of sneakers. It is a l...   \n",
       "2    The product appears to be a mid-range runnin...   \n",
       "\n",
       "                               Consumer_Demographics  \n",
       "0    The target consumer is likely to be a young ...  \n",
       "1    The target consumer for these shoes is likel...  \n",
       "2    - The target consumer is likely to be betwee...  \n",
       "\n",
       "[3 rows x 38 columns]"
      ]
     },
     "execution_count": 253,
     "metadata": {},
     "output_type": "execute_result"
    }
   ],
   "source": [
    "df_main.head(3)"
   ]
  },
  {
   "cell_type": "code",
   "execution_count": 252,
   "metadata": {},
   "outputs": [],
   "source": [
    "df_main.to_csv('./GeminiOutput_LinePlan/Brand_LinePlan_Gemini_Prompt_Response_2024-10-04.csv', index=False)"
   ]
  },
  {
   "cell_type": "code",
   "execution_count": null,
   "metadata": {},
   "outputs": [],
   "source": []
  },
  {
   "cell_type": "code",
   "execution_count": 256,
   "metadata": {},
   "outputs": [],
   "source": [
    "df_main['Product_details'] = df_main['Product_details'].str.lower().str.replace('\\n',' ')"
   ]
  },
  {
   "cell_type": "code",
   "execution_count": 257,
   "metadata": {},
   "outputs": [],
   "source": [
    "df_main = df_main.reset_index()\n",
    "df_main.drop(columns='index', inplace=True)"
   ]
  },
  {
   "cell_type": "code",
   "execution_count": 255,
   "metadata": {
    "tags": []
   },
   "outputs": [],
   "source": [
    "# document_Product_details = ' '.join(df_main['Product_details'].unique())\n",
    "\n",
    "# df_main.head(3)\n",
    "\n",
    "# import nltk\n",
    "# from nltk.corpus import stopwords\n",
    "\n",
    "# nltk.download('stopwords')\n",
    "# print(stopwords.words('english'))\n",
    "\n",
    "# stop_words = set(stopwords.words('english'))\n",
    "\n",
    "# def count(elements):\n",
    "#     if elements[-1] == '.':\n",
    "#         elements = elements[0:len(elements) - 1]\n",
    "#     if elements in dictionary:\n",
    "#         dictionary[elements] += 1\n",
    "#     else:\n",
    "#         dictionary.update({elements: 1})\n",
    "\n",
    "# Sentence = document_Product_details\n",
    " \n",
    "# dictionary = {}\n",
    " \n",
    "# lst = Sentence.split()\n",
    "# filtered_sentence = []\n",
    "\n",
    "# for w in lst:\n",
    "#     if w not in stop_words:\n",
    "#         filtered_sentence.append(w)\n",
    "\n",
    "# for elements in filtered_sentence:\n",
    "#     count(elements)\n",
    "\n",
    "\n",
    "# df_pd = pd.json_normalize(dictionary).T.reset_index()\n",
    "# df_pd.columns=['Word', 'count']\n",
    "# df_pd.sort_values('count', ascending=False, inplace=True)\n",
    "# df_pd.to_csv('WordFrequency.csv', index=False)\n",
    "# df_pd.head(10)\n",
    "\n",
    "# df_pd.head(50)['Word'].unique()\n",
    "\n",
    "\n",
    "# # material_ = ['leather','lace-up', 'rubber', 'high-top', 'suede', 'winter', 'running', 'mesh',\n",
    "# #                'waterproof', 'low-top', 'casual', 'flats']\n",
    "\n",
    "\n",
    "\n",
    "# df_main.shape"
   ]
  },
  {
   "cell_type": "code",
   "execution_count": 260,
   "metadata": {},
   "outputs": [],
   "source": [
    "details = list(df_main['Product_details'])[:100]"
   ]
  },
  {
   "cell_type": "code",
   "execution_count": 261,
   "metadata": {},
   "outputs": [],
   "source": [
    "model1 = GenerativeModel(\"gemini-1.0-pro\")"
   ]
  },
  {
   "cell_type": "code",
   "execution_count": 276,
   "metadata": {},
   "outputs": [],
   "source": [
    "\n",
    "def get_Gemini_response_using_Text(_text):\n",
    "\n",
    "    model_output_text = \"\"\n",
    "    # time.sleep(1)\n",
    "    try:\n",
    "        responses = model1.generate_content(_text, stream=True)\n",
    "        for response in responses:\n",
    "            model_output_text = model_output_text +response.text\n",
    "        \n",
    "    except:\n",
    "        model_output_text = 'unknown_error'\n",
    "\n",
    "    return model_output_text\n"
   ]
  },
  {
   "cell_type": "code",
   "execution_count": 286,
   "metadata": {},
   "outputs": [],
   "source": [
    "_text = \"Provide a complete list of all sub category within footwear category in json format\"\n",
    "all_product_taxonomy = get_Gemini_response_using_Text(_text)"
   ]
  },
  {
   "cell_type": "code",
   "execution_count": 287,
   "metadata": {},
   "outputs": [
    {
     "name": "stdout",
     "output_type": "stream",
     "text": [
      "## Footwear Subcategories in JSON format\n",
      "\n",
      "```json\n",
      "{\n",
      "  \"footwear\": {\n",
      "    \"men\": {\n",
      "      \"shoes\": {\n",
      "        \"athletic\": [\"Running Shoes\", \"Training Shoes\", \"Walking Shoes\", \"Basketball Shoes\", \"Soccer Shoes\", \"Tennis Shoes\", \"Golf Shoes\", \"Baseball/Softball Shoes\"],\n",
      "        \"casual\": [\"Sneakers\", \"Boat Shoes\", \"Chukkas\", \"Loafers\", \"Boots (Ankle, Chelsea, Chukka, Timberland)\", \"Sandals\", \"Flip Flops\"],\n",
      "        \"dress\": [\"Oxfords\", \"Monk Strap Shoes\", \"Loafers\", \"Derbies\", \"Wingtips\"],\n",
      "        \"work\": [\"Work Boots\", \"Safety Shoes\", \"Steel Toe Shoes\", \"Slip Resistant Shoes\"],\n",
      "        \"special occasion\": [\"Formal Shoes\", \"Wedding Shoes\"],\n",
      "      },\n",
      "      \"socks\": [\"Dress Socks\", \"Casual Socks\", \"Athletic Socks\", \"Specialty Socks (Compression, No Show)\"]\n",
      "    },\n",
      "    \"women\": {\n",
      "      \"shoes\": {\n",
      "        \"athletic\": [\"Running Shoes\", \"Training Shoes\", \"Walking Shoes\", \"Basketball Shoes\", \"Tennis Shoes\", \"Dance Shoes\", \"Yoga Shoes\", \"Hiking Boots\"],\n",
      "        \"casual\": [\"Sneakers\", \"Sandals\", \"Flats\", \"Espadrilles\", \"Boots (Ankle, Chelsea, Knee-High)\", \"Wedges\", \"Loafers\"],\n",
      "        \"dress\": [\"Heels (Stilettos, Pumps, Platforms, Wedges)\", \"Oxfords\", \"Loafers\", \"Mules\"],\n",
      "        \"work\": [\"Work Boots\", \"Safety Shoes\", \"Steel Toe Shoes\", \"Slip Resistant Shoes\"],\n",
      "        \"special occasion\": [\"Formal Shoes\", \"Wedding Shoes\", \"Party Shoes\"]\n",
      "      },\n",
      "      \"socks\": [\"Dress Socks\", \"Casual Socks\", \"Athletic Socks\", \"Specialty Socks (Compression, No Show, Knee High)\"]\n",
      "    },\n",
      "    \"children\": {\n",
      "      \"shoes\": {\n",
      "        \"athletic\": [\"Running Shoes\", \"Sneakers\", \"Training Shoes\", \"Basketball Shoes\", \"Soccer Shoes\", \"Tennis Shoes\"],\n",
      "        \"casual\": [\"Sandals\", \"Boots\", \"Sneakers\", \"Flats\", \"Loafers\"],\n",
      "        \"dress\": [\"Dress Shoes\", \"Mary Janes\", \"Oxfords\"],\n",
      "        \"special occasion\": [\"Formal Shoes\", \"Party Shoes\"]\n",
      "      },\n",
      "      \"socks\": [\"Socks (Crew, Ankle, Knee High)\"]\n",
      "    },\n",
      "    \"accessories\": [\"Insoles\", \"Shoelaces\", \"Shoe Care Products\", \"Shoe Bags\", \"Footwear Deodorizers\"]\n",
      "  }\n",
      "}\n",
      "```\n",
      "\n",
      "This list includes various subcategories within the footwear category, categorized by gender and further divided by type and purpose. Some subcategories might include additional options depending on the retailer or manufacturer. \n",
      "\n"
     ]
    }
   ],
   "source": [
    "print(all_product_taxonomy)"
   ]
  },
  {
   "cell_type": "code",
   "execution_count": 266,
   "metadata": {},
   "outputs": [],
   "source": [
    "# GEMINI_text_response"
   ]
  },
  {
   "cell_type": "code",
   "execution_count": 208,
   "metadata": {},
   "outputs": [],
   "source": []
  },
  {
   "cell_type": "code",
   "execution_count": 308,
   "metadata": {},
   "outputs": [],
   "source": [
    "def SUB_CATEGORY(row):\n",
    "    text = ''\n",
    "    # subcat = ['sneakers', 'boots', 'sandals', 'slip-on', 'slippers', 'loafers', 'clogs', 'hiking', 'slides', 'pumps',\n",
    "    #           'boat', 'golf', 'flats', 'heels', 'dress', 'ankle'\n",
    "    #          ]\n",
    "    \n",
    "    subcat = [\n",
    "    'sneaker','athletic','boat','boot','clog','formal','heel','mary jane','loafer','mule',\n",
    "    'pumps','running','sandal','slide','slip-on','slipper','walking','wedge'\n",
    "    ]\n",
    "    \n",
    "    \n",
    "    for sc in subcat:\n",
    "        if row['Product_details'].find(sc)>-1:\n",
    "            text = sc\n",
    "    \n",
    "    if text=='':\n",
    "        return 'unknown'\n",
    "    else:\n",
    "        return text\n",
    "\n",
    "        \n",
    "def PRODUCT_TYPE(row):\n",
    "    text = ''\n",
    "    # producttype = ['lace-up', 'high-top', 'running', 'low-top', 'heels', 'athletic',  'derby', 'athleisure']\n",
    "    producttype = ['ankle-high','basketball','brogue','chunky','court','derby','dress','flats','golf','high-top','hiking','indoors',\n",
    "    'low-top','mid-top','open-toe','oxford','peep-toe','platform','slingback','trail','strap','canvas'\n",
    "    ]\n",
    "    \n",
    "    \n",
    "    for pt in producttype:\n",
    "        if row['Product_details'].find(pt)>-1:\n",
    "            text = text + ' ' + pt\n",
    "    \n",
    "    if text=='':\n",
    "        return 'unknown'\n",
    "    else:\n",
    "        return text"
   ]
  },
  {
   "cell_type": "code",
   "execution_count": 309,
   "metadata": {},
   "outputs": [],
   "source": [
    "df_main['CATEGORY'] = 'Footwear'\n",
    "df_main['SUB_CATEGORY'] = df_main.apply(SUB_CATEGORY, axis=1)\n",
    "df_main['PRODUCT_TYPE'] = df_main.apply(PRODUCT_TYPE, axis=1)"
   ]
  },
  {
   "cell_type": "code",
   "execution_count": 313,
   "metadata": {},
   "outputs": [
    {
     "data": {
      "text/plain": [
       "sneaker      884\n",
       "boot         632\n",
       "running      476\n",
       "slip-on      323\n",
       "sandal       139\n",
       "unknown      124\n",
       "slide        107\n",
       "loafer        74\n",
       "slipper       69\n",
       "heel          55\n",
       "clog          32\n",
       "wedge         22\n",
       "mary jane     20\n",
       "pumps         15\n",
       "athletic      11\n",
       "boat           6\n",
       "formal         3\n",
       "mule           3\n",
       "walking        2\n",
       "Name: SUB_CATEGORY, dtype: int64"
      ]
     },
     "execution_count": 313,
     "metadata": {},
     "output_type": "execute_result"
    }
   ],
   "source": [
    "df_main.SUB_CATEGORY.value_counts(dropna=False)"
   ]
  },
  {
   "cell_type": "code",
   "execution_count": 314,
   "metadata": {},
   "outputs": [
    {
     "data": {
      "text/plain": [
       "unknown                   1912\n",
       " low-top                   400\n",
       " high-top                  298\n",
       " strap                      69\n",
       " dress                      40\n",
       " platform                   25\n",
       " indoors                    24\n",
       " flats                      24\n",
       " dress oxford               20\n",
       " basketball high-top        19\n",
       " trail                      16\n",
       " canvas                     16\n",
       " slingback                  16\n",
       " high-top hiking            15\n",
       " low-top canvas             14\n",
       " chunky                     10\n",
       " open-toe                    8\n",
       " derby dress                 8\n",
       " oxford                      7\n",
       " mid-top                     6\n",
       " high-top trail              5\n",
       " hiking mid-top              5\n",
       " golf                        5\n",
       " high-top strap              4\n",
       " peep-toe                    4\n",
       " court                       3\n",
       " flats slingback             3\n",
       " hiking                      2\n",
       " high-top canvas             2\n",
       " dress strap                 2\n",
       " brogue                      1\n",
       " platform strap              1\n",
       " chunky low-top              1\n",
       " chunky platform             1\n",
       " chunky strap                1\n",
       " derby                       1\n",
       " derby dress oxford          1\n",
       " open-toe strap              1\n",
       " dress platform strap        1\n",
       " brogue dress                1\n",
       " low-top strap               1\n",
       " chunky high-top             1\n",
       " ankle-high                  1\n",
       " hiking open-toe strap       1\n",
       " golf oxford                 1\n",
       "Name: PRODUCT_TYPE, dtype: int64"
      ]
     },
     "execution_count": 314,
     "metadata": {},
     "output_type": "execute_result"
    }
   ],
   "source": [
    "df_main.PRODUCT_TYPE.value_counts(dropna=False)"
   ]
  },
  {
   "cell_type": "code",
   "execution_count": 312,
   "metadata": {},
   "outputs": [
    {
     "name": "stderr",
     "output_type": "stream",
     "text": [
      "/var/folders/qt/zy3gc52j1712w7xc3mjnx70c0000gn/T/ipykernel_7860/4102608626.py:1: UserWarning: Boolean Series key will be reindexed to match DataFrame index.\n",
      "  df_main[df_main.PRODUCT_TYPE=='unknown'][df_main.SUB_CATEGORY=='sneaker']['Product_details'][398]\n"
     ]
    },
    {
     "data": {
      "text/plain": [
       "'  product category: footwear product sub-category: sneakers product type: casual sneakers '"
      ]
     },
     "execution_count": 312,
     "metadata": {},
     "output_type": "execute_result"
    }
   ],
   "source": [
    "df_main[df_main.PRODUCT_TYPE=='unknown'][df_main.SUB_CATEGORY=='sneaker']['Product_details'][398]"
   ]
  },
  {
   "cell_type": "code",
   "execution_count": 291,
   "metadata": {},
   "outputs": [
    {
     "data": {
      "text/plain": [
       "sneaker       901\n",
       "boot          505\n",
       "unknown       128\n",
       "slide         122\n",
       "sandal        110\n",
       "loafer         53\n",
       "slipper        47\n",
       "heel           42\n",
       "clog           33\n",
       "wedge          22\n",
       "pumps          11\n",
       "athletic        7\n",
       "boat            6\n",
       "mary jane       5\n",
       "mule            3\n",
       "walking         1\n",
       "athleisure      1\n",
       "Name: SUB_CATEGORY, dtype: int64"
      ]
     },
     "execution_count": 291,
     "metadata": {},
     "output_type": "execute_result"
    }
   ],
   "source": [
    "df_main[df_main.PRODUCT_TYPE=='unknown'].SUB_CATEGORY.value_counts(dropna=False)"
   ]
  },
  {
   "cell_type": "code",
   "execution_count": 271,
   "metadata": {},
   "outputs": [
    {
     "data": {
      "text/plain": [
       "sneaker       1552\n",
       "boot           627\n",
       "unknown        216\n",
       "sandal         155\n",
       "slide          123\n",
       "loafer          81\n",
       "slipper         69\n",
       "heel            51\n",
       "clog            36\n",
       "wedge           22\n",
       "mary jane       20\n",
       "pumps           15\n",
       "athletic        15\n",
       "boat             6\n",
       "formal           3\n",
       "mule             3\n",
       "walking          2\n",
       "athleisure       1\n",
       "Name: SUB_CATEGORY, dtype: int64"
      ]
     },
     "execution_count": 271,
     "metadata": {},
     "output_type": "execute_result"
    }
   ],
   "source": [
    "df_main.SUB_CATEGORY.value_counts(dropna=False)"
   ]
  },
  {
   "cell_type": "code",
   "execution_count": 315,
   "metadata": {},
   "outputs": [
    {
     "data": {
      "text/plain": [
       "(2997, 41)"
      ]
     },
     "execution_count": 315,
     "metadata": {},
     "output_type": "execute_result"
    }
   ],
   "source": [
    "df_main.shape"
   ]
  },
  {
   "cell_type": "code",
   "execution_count": 316,
   "metadata": {},
   "outputs": [],
   "source": [
    "df_main.to_csv('./GeminiOutput_LinePlan/Brand_LinePlan_Gemini_Prompt_Response_2024-10-04_SUBCAT_PT.csv', index=False)"
   ]
  },
  {
   "cell_type": "code",
   "execution_count": null,
   "metadata": {},
   "outputs": [],
   "source": []
  },
  {
   "cell_type": "code",
   "execution_count": null,
   "metadata": {},
   "outputs": [],
   "source": []
  },
  {
   "cell_type": "code",
   "execution_count": null,
   "metadata": {},
   "outputs": [],
   "source": []
  }
 ],
 "metadata": {
  "colab": {
   "machine_shape": "hm",
   "provenance": []
  },
  "kernelspec": {
   "display_name": "Python 3 (ipykernel)",
   "language": "python",
   "name": "python3"
  },
  "language_info": {
   "codemirror_mode": {
    "name": "ipython",
    "version": 3
   },
   "file_extension": ".py",
   "mimetype": "text/x-python",
   "name": "python",
   "nbconvert_exporter": "python",
   "pygments_lexer": "ipython3",
   "version": "3.10.9"
  }
 },
 "nbformat": 4,
 "nbformat_minor": 4
}
